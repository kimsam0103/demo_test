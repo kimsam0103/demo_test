{
  "cells": [
    {
      "cell_type": "markdown",
      "metadata": {
        "id": "view-in-github",
        "colab_type": "text"
      },
      "source": [
        "<a href=\"https://colab.research.google.com/github/kimsam0103/demo_test/blob/master/Module%200/Session%206/m0s6nb02_helper_functions.ipynb\" target=\"_parent\"><img src=\"https://colab.research.google.com/assets/colab-badge.svg\" alt=\"Open In Colab\"/></a>"
      ]
    },
    {
      "cell_type": "markdown",
      "id": "b389798d",
      "metadata": {
        "id": "b389798d"
      },
      "source": [
        "# Helper Functions"
      ]
    },
    {
      "cell_type": "markdown",
      "id": "0c45749d",
      "metadata": {
        "id": "0c45749d"
      },
      "source": [
        "## What are Helper Functions and why are we covering them?"
      ]
    },
    {
      "cell_type": "markdown",
      "id": "d394674b",
      "metadata": {
        "id": "d394674b"
      },
      "source": [
        "#### Helper functions enable us to perform complex algorithms in a more concise and readable manner.\n",
        "\n",
        "#### Helper functions are useful for operations that are to be repeated over and over, or need to be called from within different places in the notebook.\n"
      ]
    },
    {
      "cell_type": "markdown",
      "id": "daff58a3",
      "metadata": {
        "id": "daff58a3"
      },
      "source": [
        "#### Helper functions break out the steps of complex logic into \"bite size\", separate, and callable functions.\n",
        "\n",
        "So instead of writing your algorithm in a series of statements, we write individual functions that we call in our algorithm.\n",
        "\n",
        "You will see (and want to use) helper functions on the exams.\n",
        "\n",
        "This is a good link explaining Helper Functions in detail:  https://bito.ai/resources/helper-function-python-python-explained/\n"
      ]
    },
    {
      "cell_type": "markdown",
      "id": "28766f55",
      "metadata": {
        "id": "28766f55"
      },
      "source": [
        "#### So let's look at a very simple example. This is intended to illustrate the concept. This is not necessarily the best way to solve such an exercise, but simply to show how a helper function works. As we go through complex exercises, particularly the practice exam problems, you will see where helper functions are useful.\n",
        "\n",
        "Recall the two step process from the prior notebook, for taking a list of names and changing them to a list of names in the format of last name, first name."
      ]
    },
    {
      "cell_type": "code",
      "execution_count": 1,
      "id": "e21f5dd8",
      "metadata": {
        "scrolled": true,
        "id": "e21f5dd8"
      },
      "outputs": [],
      "source": [
        "# list of names\n",
        "presidents_usa = [\"George Washington\", \"John Adams\",\"Thomas Jefferson\",\"James Madison\",\"James Monroe\",\"Andrew Jackson\"]"
      ]
    },
    {
      "cell_type": "code",
      "execution_count": 2,
      "id": "afeabdcd",
      "metadata": {
        "id": "afeabdcd",
        "colab": {
          "base_uri": "https://localhost:8080/"
        },
        "outputId": "a24e8b20-6d2b-4e19-9aa1-b48d0d5a11f1"
      },
      "outputs": [
        {
          "output_type": "execute_result",
          "data": {
            "text/plain": [
              "[['George', 'Washington'],\n",
              " ['John', 'Adams'],\n",
              " ['Thomas', 'Jefferson'],\n",
              " ['James', 'Madison'],\n",
              " ['James', 'Monroe'],\n",
              " ['Andrew', 'Jackson']]"
            ]
          },
          "metadata": {},
          "execution_count": 2
        }
      ],
      "source": [
        "# divide the names into first and last name elements\n",
        "split_names_var = [name.split(\" \") for name in presidents_usa]\n",
        "split_names_var"
      ]
    },
    {
      "cell_type": "code",
      "execution_count": 3,
      "id": "d858dd3d",
      "metadata": {
        "id": "d858dd3d",
        "colab": {
          "base_uri": "https://localhost:8080/"
        },
        "outputId": "37eb2993-4b6b-4f35-a4d6-97dd3aa620e9"
      },
      "outputs": [
        {
          "output_type": "execute_result",
          "data": {
            "text/plain": [
              "['Washington, George',\n",
              " 'Adams, John',\n",
              " 'Jefferson, Thomas',\n",
              " 'Madison, James',\n",
              " 'Monroe, James',\n",
              " 'Jackson, Andrew']"
            ]
          },
          "metadata": {},
          "execution_count": 3
        }
      ],
      "source": [
        "swapped_list_var = [split_name[1] + \", \" + split_name[0] for split_name in split_names_var]\n",
        "swapped_list_var"
      ]
    },
    {
      "cell_type": "markdown",
      "id": "961cb708",
      "metadata": {
        "id": "961cb708"
      },
      "source": [
        "### Exercise Requirement\n",
        "\n",
        "#### Write a function, `name_reverse()` that takes as input a list of names and outputs them in as a list of names, with each name in the format of `last name, first name`, in alphabetical order."
      ]
    },
    {
      "cell_type": "code",
      "execution_count": 4,
      "id": "3a0597f6",
      "metadata": {
        "id": "3a0597f6"
      },
      "outputs": [],
      "source": [
        "def name_reverse(name_list):\n",
        "    # split the names into a list first and last names\n",
        "    split_names_var = [name.split(\" \") for name in name_list]\n",
        "#     print(split_names)\n",
        "\n",
        "    swapped_list_var = [split_name[1] + \", \" + split_name[0] for split_name in split_names_var]\n",
        "#     print(swapped_list)\n",
        "\n",
        "    swapped_list_var.sort()\n",
        "#     print(swapped_list)\n",
        "\n",
        "    return swapped_list_var\n"
      ]
    },
    {
      "cell_type": "code",
      "execution_count": 5,
      "id": "30c396da",
      "metadata": {
        "id": "30c396da",
        "colab": {
          "base_uri": "https://localhost:8080/",
          "height": 121
        },
        "outputId": "d87e9c3c-a0f7-4b3a-eb71-593e43a258e9"
      },
      "outputs": [
        {
          "output_type": "display_data",
          "data": {
            "text/plain": [
              "['Adams, John',\n",
              " 'Jackson, Andrew',\n",
              " 'Jefferson, Thomas',\n",
              " 'Madison, James',\n",
              " 'Monroe, James',\n",
              " 'Washington, George']"
            ]
          },
          "metadata": {}
        }
      ],
      "source": [
        "# test the function\n",
        "output_list = (name_reverse(presidents_usa))\n",
        "display(output_list)"
      ]
    },
    {
      "cell_type": "markdown",
      "id": "60e2f963",
      "metadata": {
        "id": "60e2f963"
      },
      "source": [
        "#### Now let's do this using helper functions, within the main function. We'll change the function name to name_reverse_helper().\n"
      ]
    },
    {
      "cell_type": "code",
      "source": [
        "# list of names\n",
        "presidents_usa = [\"George Washington\", \"John Adams\",\"Thomas Jefferson\",\"James Madison\",\"James Monroe\",\"Andrew Jackson\"]\n",
        "\n",
        "list_split_names =[]\n",
        "\n",
        "for name in presidents_usa:\n",
        "  split_name = name.split(\" \")\n",
        "  list_split_names.append(split_name)\n",
        "\n",
        "print(list_split_names)\n",
        "\n",
        "list_reverse_names =[]\n",
        "for name in list_split_names:\n",
        "  reverse_name = name[1] + \", \" + name[0]\n",
        "  list_reverse_names.append(reverse_name)\n",
        "\n",
        "display(list_reverse_names)\n",
        "\n"
      ],
      "metadata": {
        "colab": {
          "base_uri": "https://localhost:8080/",
          "height": 138
        },
        "id": "Q3uczu5AJ9YK",
        "outputId": "e9934fd2-3652-47cd-8986-a8023588018b"
      },
      "id": "Q3uczu5AJ9YK",
      "execution_count": 20,
      "outputs": [
        {
          "output_type": "stream",
          "name": "stdout",
          "text": [
            "[['George', 'Washington'], ['John', 'Adams'], ['Thomas', 'Jefferson'], ['James', 'Madison'], ['James', 'Monroe'], ['Andrew', 'Jackson']]\n"
          ]
        },
        {
          "output_type": "display_data",
          "data": {
            "text/plain": [
              "['Washington, George',\n",
              " 'Adams, John',\n",
              " 'Jefferson, Thomas',\n",
              " 'Madison, James',\n",
              " 'Monroe, James',\n",
              " 'Jackson, Andrew']"
            ]
          },
          "metadata": {}
        }
      ]
    },
    {
      "cell_type": "code",
      "source": [
        "def reverse_helper(name_list):\n",
        "\n",
        "  def split_name1(name_list1):\n",
        "    list_split_names1 =[]\n",
        "\n",
        "    for name1 in name_list1:\n",
        "      split_name1 = name1.split(\" \")\n",
        "      list_split_names1.append(split_name1)\n",
        "\n",
        "    return list_split_names1\n",
        "\n",
        "  def reverse_name1(split_names1):\n",
        "    list_reverse_names1 =[]\n",
        "    for name2 in list_split_names:\n",
        "      reverse_name1 = name2[1] + \", \" + name2[0]\n",
        "      list_reverse_names1.append(reverse_name1)\n",
        "    return list_reverse_names1\n",
        "\n",
        "\n",
        "  test_split_name = split_name1(name_list)\n",
        "  test_reverse_name = reverse_name1(test_split_name)\n",
        "\n",
        "  return test_reverse_name\n",
        "\n",
        "\n",
        "test_final = reverse_helper(presidents_usa)\n",
        "display(test_final)"
      ],
      "metadata": {
        "colab": {
          "base_uri": "https://localhost:8080/",
          "height": 121
        },
        "id": "dQ_sg737J3f0",
        "outputId": "c7ee023e-7016-49a8-c061-7be416bdd5fa"
      },
      "id": "dQ_sg737J3f0",
      "execution_count": 24,
      "outputs": [
        {
          "output_type": "display_data",
          "data": {
            "text/plain": [
              "['Washington, George',\n",
              " 'Adams, John',\n",
              " 'Jefferson, Thomas',\n",
              " 'Madison, James',\n",
              " 'Monroe, James',\n",
              " 'Jackson, Andrew']"
            ]
          },
          "metadata": {}
        }
      ]
    },
    {
      "cell_type": "code",
      "source": [
        "  def split_name1(name_list1):\n",
        "    list_split_names1 =[name1.split(\" \") for name1 in name_list1]\n",
        "    return list_split_names1\n",
        "\n",
        "  def reverse_name1(split_names1):\n",
        "    list_reverse_names1 = [name2[1] + \", \" + name2[0] for name2 in split_names1]\n",
        "    return list_reverse_names1\n",
        "\n",
        "  test_split_name1 = split_name1(presidents_usa)\n",
        "  test_reverse_name1 = reverse_name1(test_split_name1)\n",
        "\n",
        "  display(test_reverse_name1)"
      ],
      "metadata": {
        "id": "2qpazYGsNkTF",
        "outputId": "c3e16c54-31a3-4848-e560-7cf497e14d49",
        "colab": {
          "base_uri": "https://localhost:8080/",
          "height": 121
        }
      },
      "id": "2qpazYGsNkTF",
      "execution_count": 27,
      "outputs": [
        {
          "output_type": "display_data",
          "data": {
            "text/plain": [
              "['Washington, George',\n",
              " 'Adams, John',\n",
              " 'Jefferson, Thomas',\n",
              " 'Madison, James',\n",
              " 'Monroe, James',\n",
              " 'Jackson, Andrew']"
            ]
          },
          "metadata": {}
        }
      ]
    },
    {
      "cell_type": "code",
      "execution_count": 6,
      "id": "251e962e",
      "metadata": {
        "id": "251e962e"
      },
      "outputs": [],
      "source": [
        "def name_reverse_helper(name_list):\n",
        "\n",
        "    # this is a helper function\n",
        "    def split_names_func(list_to_split):\n",
        "        # split the names into a list first and last names\n",
        "        split_name_list = [name.split(\" \") for name in list_to_split]\n",
        "        return split_name_list\n",
        "\n",
        "     # this is another helper function\n",
        "    def swap_names_func(list_to_swap):\n",
        "        swapped_list = [swap_name[1] + \", \" + swap_name[0] for swap_name in list_to_swap]\n",
        "        return swapped_list\n",
        "\n",
        "#     call first helper function\n",
        "    first_list = split_names_func(name_list)\n",
        "#     call second helper function\n",
        "    alpha_list = swap_names_func(first_list)\n",
        "\n",
        "    alpha_list.sort()\n",
        "\n",
        "    return alpha_list"
      ]
    },
    {
      "cell_type": "code",
      "execution_count": 7,
      "id": "efc66afa",
      "metadata": {
        "id": "efc66afa",
        "colab": {
          "base_uri": "https://localhost:8080/",
          "height": 121
        },
        "outputId": "feaa7a3b-e89d-40bf-d79e-5e5dced5fced"
      },
      "outputs": [
        {
          "output_type": "display_data",
          "data": {
            "text/plain": [
              "['Adams, John',\n",
              " 'Jackson, Andrew',\n",
              " 'Jefferson, Thomas',\n",
              " 'Madison, James',\n",
              " 'Monroe, James',\n",
              " 'Washington, George']"
            ]
          },
          "metadata": {}
        }
      ],
      "source": [
        "# test the function\n",
        "output_list = (name_reverse_helper(presidents_usa))\n",
        "display(output_list)"
      ]
    },
    {
      "cell_type": "markdown",
      "id": "f8958a10",
      "metadata": {
        "id": "f8958a10"
      },
      "source": [
        "#### Note that the helper functions only exist within the context of the main function. This is known as their `scope`.\n",
        "\n",
        "Python global variables/functions are those which are not defined inside any function and have a global scope within the notebook, whereas Python local variables/functions are those which are defined inside a function and their scope is limited to that function only.\n",
        "\n",
        "In other words, we can say that local variables/functions are accessible only inside the function in which it was initialized whereas the global variables/functions are accessible throughout the program and inside every other function.\n",
        "\n",
        "https://www.w3schools.com/PYTHON/python_scope.asp\n",
        "\n",
        "https://www.geeksforgeeks.org/global-local-variables-python/"
      ]
    },
    {
      "cell_type": "code",
      "execution_count": 8,
      "id": "a718c1fc",
      "metadata": {
        "id": "a718c1fc"
      },
      "outputs": [],
      "source": [
        "# uncomment to illustrate error\n",
        "# the error is because this function's scope is only within the main function in which it is defined.\n",
        "# error_output = split_names_func(presidents_usa)"
      ]
    },
    {
      "cell_type": "markdown",
      "id": "a77e17ba",
      "metadata": {
        "id": "a77e17ba"
      },
      "source": [
        "### So what if we want the helper functions to be callable anywhere in the notebook?\n",
        "\n",
        "#### Define the helper functions at the notebook level (not within another function).\n",
        "\n",
        "You will see this in both homework notebooks and practice exams (and most likely the real exams that you will take).\n",
        "\n",
        "You may be provided a helper function to call, or you may want to write a helper function as a part of your solution.\n",
        "\n",
        "A good example of being provided a helper function is some complex statistical calculation. Instead of asking the student to write the function, the exam will provide it, and the student will only need to call it as a part of their solution."
      ]
    },
    {
      "cell_type": "code",
      "execution_count": 9,
      "id": "24ae9def",
      "metadata": {
        "id": "24ae9def"
      },
      "outputs": [],
      "source": [
        "# this is a global helper function\n",
        "def split_names_func_global(list_to_split):\n",
        "    # split the names into a list first and last names\n",
        "    split_name_list = [name.split(\" \") for name in list_to_split]\n",
        "    return split_name_list"
      ]
    },
    {
      "cell_type": "code",
      "execution_count": 10,
      "id": "634498b5",
      "metadata": {
        "id": "634498b5"
      },
      "outputs": [],
      "source": [
        "# this is another global helper function\n",
        "def swap_names_func_global(list_to_swap):\n",
        "    swapped_list = [swap_name[1] + \", \" + swap_name[0] for swap_name in list_to_swap]\n",
        "    return swapped_list"
      ]
    },
    {
      "cell_type": "markdown",
      "id": "cad84040",
      "metadata": {
        "id": "cad84040"
      },
      "source": [
        "#### Now define your function using the global helper functions."
      ]
    },
    {
      "cell_type": "code",
      "execution_count": 11,
      "id": "3d4b66d8",
      "metadata": {
        "id": "3d4b66d8"
      },
      "outputs": [],
      "source": [
        "def name_reverse_helper_global(name_list):\n",
        "\n",
        "#     call first global helper function\n",
        "    first_list = split_names_func_global(name_list)\n",
        "#     call second global helper function\n",
        "    alpha_list = swap_names_func_global(first_list)\n",
        "\n",
        "    alpha_list.sort()\n",
        "\n",
        "    return alpha_list"
      ]
    },
    {
      "cell_type": "code",
      "execution_count": 12,
      "id": "730b8b73",
      "metadata": {
        "id": "730b8b73",
        "colab": {
          "base_uri": "https://localhost:8080/",
          "height": 121
        },
        "outputId": "3d213f8a-b73b-44df-db5c-03f4de00607e"
      },
      "outputs": [
        {
          "output_type": "display_data",
          "data": {
            "text/plain": [
              "['Adams, John',\n",
              " 'Jackson, Andrew',\n",
              " 'Jefferson, Thomas',\n",
              " 'Madison, James',\n",
              " 'Monroe, James',\n",
              " 'Washington, George']"
            ]
          },
          "metadata": {}
        }
      ],
      "source": [
        "# test the function\n",
        "output_list = (name_reverse_helper_global(presidents_usa))\n",
        "display(output_list)"
      ]
    },
    {
      "cell_type": "markdown",
      "id": "324fa0e8",
      "metadata": {
        "id": "324fa0e8"
      },
      "source": [
        "### What are your questions on helper functions?"
      ]
    },
    {
      "cell_type": "code",
      "execution_count": 28,
      "id": "96b966df",
      "metadata": {
        "id": "96b966df",
        "colab": {
          "base_uri": "https://localhost:8080/"
        },
        "outputId": "c30b32e9-3ec7-4f06-b286-1c0c47045be0"
      },
      "outputs": [
        {
          "output_type": "execute_result",
          "data": {
            "text/plain": [
              "{'__name__': '__main__',\n",
              " '__doc__': 'Automatically created module for IPython interactive environment',\n",
              " '__package__': None,\n",
              " '__loader__': None,\n",
              " '__spec__': None,\n",
              " '__builtin__': <module 'builtins' (built-in)>,\n",
              " '__builtins__': <module 'builtins' (built-in)>,\n",
              " '_ih': ['',\n",
              "  '# list of names\\npresidents_usa = [\"George Washington\", \"John Adams\",\"Thomas Jefferson\",\"James Madison\",\"James Monroe\",\"Andrew Jackson\"]',\n",
              "  '# divide the names into first and last name elements\\nsplit_names_var = [name.split(\" \") for name in presidents_usa]\\nsplit_names_var',\n",
              "  'swapped_list_var = [split_name[1] + \", \" + split_name[0] for split_name in split_names_var]\\nswapped_list_var',\n",
              "  'def name_reverse(name_list):\\n    # split the names into a list first and last names\\n    split_names_var = [name.split(\" \") for name in name_list]\\n#     print(split_names)\\n\\n    swapped_list_var = [split_name[1] + \", \" + split_name[0] for split_name in split_names_var]\\n#     print(swapped_list)\\n\\n    swapped_list_var.sort()\\n#     print(swapped_list)\\n\\n    return swapped_list_var',\n",
              "  '# test the function\\noutput_list = (name_reverse(presidents_usa))\\ndisplay(output_list)',\n",
              "  'def name_reverse_helper(name_list):\\n\\n    # this is a helper function\\n    def split_names_func(list_to_split):\\n        # split the names into a list first and last names\\n        split_name_list = [name.split(\" \") for name in list_to_split]\\n        return split_name_list\\n\\n     # this is another helper function\\n    def swap_names_func(list_to_swap):\\n        swapped_list = [swap_name[1] + \", \" + swap_name[0] for swap_name in list_to_swap]\\n        return swapped_list\\n\\n#     call first helper function\\n    first_list = split_names_func(name_list)\\n#     call second helper function\\n    alpha_list = swap_names_func(first_list)\\n\\n    alpha_list.sort()\\n\\n    return alpha_list',\n",
              "  '# test the function\\noutput_list = (name_reverse_helper(presidents_usa))\\ndisplay(output_list)',\n",
              "  \"# uncomment to illustrate error\\n# the error is because this function's scope is only within the main function in which it is defined.\\n# error_output = split_names_func(presidents_usa)\",\n",
              "  '# this is a global helper function\\ndef split_names_func_global(list_to_split):\\n    # split the names into a list first and last names\\n    split_name_list = [name.split(\" \") for name in list_to_split]\\n    return split_name_list',\n",
              "  '# this is another global helper function\\ndef swap_names_func_global(list_to_swap):\\n    swapped_list = [swap_name[1] + \", \" + swap_name[0] for swap_name in list_to_swap]\\n    return swapped_list',\n",
              "  'def name_reverse_helper_global(name_list):\\n\\n#     call first global helper function\\n    first_list = split_names_func_global(name_list)\\n#     call second global helper function\\n    alpha_list = swap_names_func_global(first_list)\\n\\n    alpha_list.sort()\\n\\n    return alpha_list',\n",
              "  '# test the function\\noutput_list = (name_reverse_helper_global(presidents_usa))\\ndisplay(output_list)',\n",
              "  '# list of names\\npresidents_usa = [\"George Washington\", \"John Adams\",\"Thomas Jefferson\",\"James Madison\",\"James Monroe\",\"Andrew Jackson\"]\\n\\ndef split',\n",
              "  '# list of names\\npresidents_usa = [\"George Washington\", \"John Adams\",\"Thomas Jefferson\",\"James Madison\",\"James Monroe\",\"Andrew Jackson\"]\\n\\nfor i in presidents_usa:\\n  split_name = i.split(\" \")\\n  print(split_name)\\n\\n\\n  \\ndef split_name(list_name):',\n",
              "  '# list of names\\npresidents_usa = [\"George Washington\", \"John Adams\",\"Thomas Jefferson\",\"James Madison\",\"James Monroe\",\"Andrew Jackson\"]\\n\\nfor i in presidents_usa:\\n  split_name = i.split(\" \")\\n  print(split_name)\\n\\n\\n\\n# def split_name(list_name):',\n",
              "  '# list of names\\npresidents_usa = [\"George Washington\", \"John Adams\",\"Thomas Jefferson\",\"James Madison\",\"James Monroe\",\"Andrew Jackson\"]\\n\\nlist_split_name =[]\\n\\nfor name in presidents_usa:\\n  split_name = name.split(\" \")\\n  list_split_name.append(split_name)\\n\\n\\n\\n# def split_name(list_name):',\n",
              "  '# list of names\\npresidents_usa = [\"George Washington\", \"John Adams\",\"Thomas Jefferson\",\"James Madison\",\"James Monroe\",\"Andrew Jackson\"]\\n\\nlist_split_name =[]\\n\\nfor name in presidents_usa:\\n  split_name = name.split(\" \")\\n  list_split_name.append(split_name)\\n\\nprint(list_split_name)\\n\\n\\n# def split_name(list_name):',\n",
              "  '# list of names\\npresidents_usa = [\"George Washington\", \"John Adams\",\"Thomas Jefferson\",\"James Madison\",\"James Monroe\",\"Andrew Jackson\"]\\n\\nlist_split_names =[]\\n\\nfor name in presidents_usa:\\n  split_name = name.split(\" \")\\n  list_split_names.append(split_name)\\n\\nprint(list_split_names)\\n\\nlist_reverse_names =[]\\nfor name in list_split_names:\\n  reverse_name = name[1] + \", \" + name[0]\\n  list_reverse_names.append(list_reverse_name)\\n\\nprint(list_reverse_names)\\n\\n\\n# def split_name(list_name):',\n",
              "  '# list of names\\npresidents_usa = [\"George Washington\", \"John Adams\",\"Thomas Jefferson\",\"James Madison\",\"James Monroe\",\"Andrew Jackson\"]\\n\\nlist_split_names =[]\\n\\nfor name in presidents_usa:\\n  split_name = name.split(\" \")\\n  list_split_names.append(split_name)\\n\\nprint(list_split_names)\\n\\nlist_reverse_names =[]\\nfor name in list_split_names:\\n  reverse_name = name[1] + \", \" + name[0]\\n  list_reverse_names.append(reverse_name)\\n\\nprint(list_reverse_names)\\n\\n\\n# def split_name(list_name):',\n",
              "  '# list of names\\npresidents_usa = [\"George Washington\", \"John Adams\",\"Thomas Jefferson\",\"James Madison\",\"James Monroe\",\"Andrew Jackson\"]\\n\\nlist_split_names =[]\\n\\nfor name in presidents_usa:\\n  split_name = name.split(\" \")\\n  list_split_names.append(split_name)\\n\\nprint(list_split_names)\\n\\nlist_reverse_names =[]\\nfor name in list_split_names:\\n  reverse_name = name[1] + \", \" + name[0]\\n  list_reverse_names.append(reverse_name)\\n\\ndisplay(list_reverse_names)\\n\\n\\n# def split_name(list_name):',\n",
              "  'def reverse_helper(name_list):\\n\\n  def split_name1(name_list1):\\n    list_split_names1 =[]\\n\\n    for name1 in name_list1:\\n      split_name1 = name1.split(\" \")\\n      list_split_names1.append(split_name1)\\n    \\n    return list_split_names1\\n\\n    def reverse_name1(split_names1):\\n      list_reverse_names1 =[]\\n      for name2 in list_split_names:\\n        reverse_name1 = name2[1] + \", \" + name2[0]\\n        list_reverse_names1.append(reverse_name1)\\n\\n\\n  test_split_name = split_name1(name_list)\\n  test_reverse_name = reverse_name1(test_split_name)\\n\\n  return test_reverse_name\\n\\n\\ntest_final = reverse_helper(presidents_usa)\\ndisplay(test_final)',\n",
              "  'def reverse_helper(name_list):\\n\\n  def split_name1(name_list1):\\n    list_split_names1 =[]\\n\\n    for name1 in name_list1:\\n      split_name1 = name1.split(\" \")\\n      list_split_names1.append(split_name1)\\n    \\n    return list_split_names1\\n\\n  def reverse_name1(split_names1):\\n    list_reverse_names1 =[]\\n    for name2 in list_split_names:\\n      reverse_name1 = name2[1] + \", \" + name2[0]\\n      list_reverse_names1.append(reverse_name1)\\n\\n\\n  test_split_name = split_name1(name_list)\\n  test_reverse_name = reverse_name1(test_split_name)\\n\\n  return test_reverse_name\\n\\n\\ntest_final = reverse_helper(presidents_usa)\\ndisplay(test_final)',\n",
              "  'def reverse_helper(name_list):\\n\\n  def split_name1(name_list1):\\n    list_split_names1 =[]\\n\\n    for name1 in name_list1:\\n      split_name1 = name1.split(\" \")\\n      list_split_names1.append(split_name1)\\n    \\n    return list_split_names1\\n\\n  def reverse_name1(split_names1):\\n    list_reverse_names1 =[]\\n    for name2 in list_split_names:\\n      reverse_name1 = name2[1] + \", \" + name2[0]\\n      list_reverse_names1.append(reverse_name1)\\n\\n\\n  test_split_name = split_name1(name_list)\\n  print(test_split_name)\\n  test_reverse_name = reverse_name1(test_split_name)\\n\\n  return test_reverse_name\\n\\n\\ntest_final = reverse_helper(presidents_usa)\\ndisplay(test_final)',\n",
              "  'def reverse_helper(name_list):\\n\\n  def split_name1(name_list1):\\n    list_split_names1 =[]\\n\\n    for name1 in name_list1:\\n      split_name1 = name1.split(\" \")\\n      list_split_names1.append(split_name1)\\n    \\n    return list_split_names1\\n\\n  def reverse_name1(split_names1):\\n    list_reverse_names1 =[]\\n    for name2 in list_split_names:\\n      reverse_name1 = name2[1] + \", \" + name2[0]\\n      list_reverse_names1.append(reverse_name1)\\n    return list_reverse_names1\\n\\n\\n  test_split_name = split_name1(name_list)\\n  # print(test_split_name)\\n  test_reverse_name = reverse_name1(test_split_name)\\n\\n  return test_reverse_name\\n\\n\\ntest_final = reverse_helper(presidents_usa)\\ndisplay(test_final)',\n",
              "  'def split_name1(name_list1):\\n  list_split_names1 =[name1.split(\" \") for name1 in name_list1]\\n  return list_split_names1\\n\\ndef reverse_name1(split_names1):\\n  list_reverse_names1 = [name2[1] + \", \" + name2[0] for name2 in split_names1]\\n  return list_reverse_names1',\n",
              "  'def split_name1(name_list1):\\n  list_split_names1 =[name1.split(\" \") for name1 in name_list1]\\n  return list_split_names1\\n\\ndef reverse_name1(split_names1):\\n  list_reverse_names1 = [name2[1] + \", \" + name2[0] for name2 in split_names1]\\n  return list_reverse_names1\\n\\ntest_split_name = split_name1(presidents_usa)\\ntest_reverse_name = reverse_name1(test_split_name)',\n",
              "  'def split_name1(name_list1):\\n  list_split_names1 =[name1.split(\" \") for name1 in name_list1]\\n  return list_split_names1\\n\\ndef reverse_name1(split_names1):\\n  list_reverse_names1 = [name2[1] + \", \" + name2[0] for name2 in split_names1]\\n  return list_reverse_names1\\n\\ntest_split_name1 = split_name1(presidents_usa)\\ntest_reverse_name1 = reverse_name1(test_split_name1)\\n\\ndisplay(test_reverse_name1)',\n",
              "  'locals()'],\n",
              " '_oh': {2: [['George', 'Washington'],\n",
              "   ['John', 'Adams'],\n",
              "   ['Thomas', 'Jefferson'],\n",
              "   ['James', 'Madison'],\n",
              "   ['James', 'Monroe'],\n",
              "   ['Andrew', 'Jackson']],\n",
              "  3: ['Washington, George',\n",
              "   'Adams, John',\n",
              "   'Jefferson, Thomas',\n",
              "   'Madison, James',\n",
              "   'Monroe, James',\n",
              "   'Jackson, Andrew']},\n",
              " '_dh': ['/content'],\n",
              " 'In': ['',\n",
              "  '# list of names\\npresidents_usa = [\"George Washington\", \"John Adams\",\"Thomas Jefferson\",\"James Madison\",\"James Monroe\",\"Andrew Jackson\"]',\n",
              "  '# divide the names into first and last name elements\\nsplit_names_var = [name.split(\" \") for name in presidents_usa]\\nsplit_names_var',\n",
              "  'swapped_list_var = [split_name[1] + \", \" + split_name[0] for split_name in split_names_var]\\nswapped_list_var',\n",
              "  'def name_reverse(name_list):\\n    # split the names into a list first and last names\\n    split_names_var = [name.split(\" \") for name in name_list]\\n#     print(split_names)\\n\\n    swapped_list_var = [split_name[1] + \", \" + split_name[0] for split_name in split_names_var]\\n#     print(swapped_list)\\n\\n    swapped_list_var.sort()\\n#     print(swapped_list)\\n\\n    return swapped_list_var',\n",
              "  '# test the function\\noutput_list = (name_reverse(presidents_usa))\\ndisplay(output_list)',\n",
              "  'def name_reverse_helper(name_list):\\n\\n    # this is a helper function\\n    def split_names_func(list_to_split):\\n        # split the names into a list first and last names\\n        split_name_list = [name.split(\" \") for name in list_to_split]\\n        return split_name_list\\n\\n     # this is another helper function\\n    def swap_names_func(list_to_swap):\\n        swapped_list = [swap_name[1] + \", \" + swap_name[0] for swap_name in list_to_swap]\\n        return swapped_list\\n\\n#     call first helper function\\n    first_list = split_names_func(name_list)\\n#     call second helper function\\n    alpha_list = swap_names_func(first_list)\\n\\n    alpha_list.sort()\\n\\n    return alpha_list',\n",
              "  '# test the function\\noutput_list = (name_reverse_helper(presidents_usa))\\ndisplay(output_list)',\n",
              "  \"# uncomment to illustrate error\\n# the error is because this function's scope is only within the main function in which it is defined.\\n# error_output = split_names_func(presidents_usa)\",\n",
              "  '# this is a global helper function\\ndef split_names_func_global(list_to_split):\\n    # split the names into a list first and last names\\n    split_name_list = [name.split(\" \") for name in list_to_split]\\n    return split_name_list',\n",
              "  '# this is another global helper function\\ndef swap_names_func_global(list_to_swap):\\n    swapped_list = [swap_name[1] + \", \" + swap_name[0] for swap_name in list_to_swap]\\n    return swapped_list',\n",
              "  'def name_reverse_helper_global(name_list):\\n\\n#     call first global helper function\\n    first_list = split_names_func_global(name_list)\\n#     call second global helper function\\n    alpha_list = swap_names_func_global(first_list)\\n\\n    alpha_list.sort()\\n\\n    return alpha_list',\n",
              "  '# test the function\\noutput_list = (name_reverse_helper_global(presidents_usa))\\ndisplay(output_list)',\n",
              "  '# list of names\\npresidents_usa = [\"George Washington\", \"John Adams\",\"Thomas Jefferson\",\"James Madison\",\"James Monroe\",\"Andrew Jackson\"]\\n\\ndef split',\n",
              "  '# list of names\\npresidents_usa = [\"George Washington\", \"John Adams\",\"Thomas Jefferson\",\"James Madison\",\"James Monroe\",\"Andrew Jackson\"]\\n\\nfor i in presidents_usa:\\n  split_name = i.split(\" \")\\n  print(split_name)\\n\\n\\n  \\ndef split_name(list_name):',\n",
              "  '# list of names\\npresidents_usa = [\"George Washington\", \"John Adams\",\"Thomas Jefferson\",\"James Madison\",\"James Monroe\",\"Andrew Jackson\"]\\n\\nfor i in presidents_usa:\\n  split_name = i.split(\" \")\\n  print(split_name)\\n\\n\\n\\n# def split_name(list_name):',\n",
              "  '# list of names\\npresidents_usa = [\"George Washington\", \"John Adams\",\"Thomas Jefferson\",\"James Madison\",\"James Monroe\",\"Andrew Jackson\"]\\n\\nlist_split_name =[]\\n\\nfor name in presidents_usa:\\n  split_name = name.split(\" \")\\n  list_split_name.append(split_name)\\n\\n\\n\\n# def split_name(list_name):',\n",
              "  '# list of names\\npresidents_usa = [\"George Washington\", \"John Adams\",\"Thomas Jefferson\",\"James Madison\",\"James Monroe\",\"Andrew Jackson\"]\\n\\nlist_split_name =[]\\n\\nfor name in presidents_usa:\\n  split_name = name.split(\" \")\\n  list_split_name.append(split_name)\\n\\nprint(list_split_name)\\n\\n\\n# def split_name(list_name):',\n",
              "  '# list of names\\npresidents_usa = [\"George Washington\", \"John Adams\",\"Thomas Jefferson\",\"James Madison\",\"James Monroe\",\"Andrew Jackson\"]\\n\\nlist_split_names =[]\\n\\nfor name in presidents_usa:\\n  split_name = name.split(\" \")\\n  list_split_names.append(split_name)\\n\\nprint(list_split_names)\\n\\nlist_reverse_names =[]\\nfor name in list_split_names:\\n  reverse_name = name[1] + \", \" + name[0]\\n  list_reverse_names.append(list_reverse_name)\\n\\nprint(list_reverse_names)\\n\\n\\n# def split_name(list_name):',\n",
              "  '# list of names\\npresidents_usa = [\"George Washington\", \"John Adams\",\"Thomas Jefferson\",\"James Madison\",\"James Monroe\",\"Andrew Jackson\"]\\n\\nlist_split_names =[]\\n\\nfor name in presidents_usa:\\n  split_name = name.split(\" \")\\n  list_split_names.append(split_name)\\n\\nprint(list_split_names)\\n\\nlist_reverse_names =[]\\nfor name in list_split_names:\\n  reverse_name = name[1] + \", \" + name[0]\\n  list_reverse_names.append(reverse_name)\\n\\nprint(list_reverse_names)\\n\\n\\n# def split_name(list_name):',\n",
              "  '# list of names\\npresidents_usa = [\"George Washington\", \"John Adams\",\"Thomas Jefferson\",\"James Madison\",\"James Monroe\",\"Andrew Jackson\"]\\n\\nlist_split_names =[]\\n\\nfor name in presidents_usa:\\n  split_name = name.split(\" \")\\n  list_split_names.append(split_name)\\n\\nprint(list_split_names)\\n\\nlist_reverse_names =[]\\nfor name in list_split_names:\\n  reverse_name = name[1] + \", \" + name[0]\\n  list_reverse_names.append(reverse_name)\\n\\ndisplay(list_reverse_names)\\n\\n\\n# def split_name(list_name):',\n",
              "  'def reverse_helper(name_list):\\n\\n  def split_name1(name_list1):\\n    list_split_names1 =[]\\n\\n    for name1 in name_list1:\\n      split_name1 = name1.split(\" \")\\n      list_split_names1.append(split_name1)\\n    \\n    return list_split_names1\\n\\n    def reverse_name1(split_names1):\\n      list_reverse_names1 =[]\\n      for name2 in list_split_names:\\n        reverse_name1 = name2[1] + \", \" + name2[0]\\n        list_reverse_names1.append(reverse_name1)\\n\\n\\n  test_split_name = split_name1(name_list)\\n  test_reverse_name = reverse_name1(test_split_name)\\n\\n  return test_reverse_name\\n\\n\\ntest_final = reverse_helper(presidents_usa)\\ndisplay(test_final)',\n",
              "  'def reverse_helper(name_list):\\n\\n  def split_name1(name_list1):\\n    list_split_names1 =[]\\n\\n    for name1 in name_list1:\\n      split_name1 = name1.split(\" \")\\n      list_split_names1.append(split_name1)\\n    \\n    return list_split_names1\\n\\n  def reverse_name1(split_names1):\\n    list_reverse_names1 =[]\\n    for name2 in list_split_names:\\n      reverse_name1 = name2[1] + \", \" + name2[0]\\n      list_reverse_names1.append(reverse_name1)\\n\\n\\n  test_split_name = split_name1(name_list)\\n  test_reverse_name = reverse_name1(test_split_name)\\n\\n  return test_reverse_name\\n\\n\\ntest_final = reverse_helper(presidents_usa)\\ndisplay(test_final)',\n",
              "  'def reverse_helper(name_list):\\n\\n  def split_name1(name_list1):\\n    list_split_names1 =[]\\n\\n    for name1 in name_list1:\\n      split_name1 = name1.split(\" \")\\n      list_split_names1.append(split_name1)\\n    \\n    return list_split_names1\\n\\n  def reverse_name1(split_names1):\\n    list_reverse_names1 =[]\\n    for name2 in list_split_names:\\n      reverse_name1 = name2[1] + \", \" + name2[0]\\n      list_reverse_names1.append(reverse_name1)\\n\\n\\n  test_split_name = split_name1(name_list)\\n  print(test_split_name)\\n  test_reverse_name = reverse_name1(test_split_name)\\n\\n  return test_reverse_name\\n\\n\\ntest_final = reverse_helper(presidents_usa)\\ndisplay(test_final)',\n",
              "  'def reverse_helper(name_list):\\n\\n  def split_name1(name_list1):\\n    list_split_names1 =[]\\n\\n    for name1 in name_list1:\\n      split_name1 = name1.split(\" \")\\n      list_split_names1.append(split_name1)\\n    \\n    return list_split_names1\\n\\n  def reverse_name1(split_names1):\\n    list_reverse_names1 =[]\\n    for name2 in list_split_names:\\n      reverse_name1 = name2[1] + \", \" + name2[0]\\n      list_reverse_names1.append(reverse_name1)\\n    return list_reverse_names1\\n\\n\\n  test_split_name = split_name1(name_list)\\n  # print(test_split_name)\\n  test_reverse_name = reverse_name1(test_split_name)\\n\\n  return test_reverse_name\\n\\n\\ntest_final = reverse_helper(presidents_usa)\\ndisplay(test_final)',\n",
              "  'def split_name1(name_list1):\\n  list_split_names1 =[name1.split(\" \") for name1 in name_list1]\\n  return list_split_names1\\n\\ndef reverse_name1(split_names1):\\n  list_reverse_names1 = [name2[1] + \", \" + name2[0] for name2 in split_names1]\\n  return list_reverse_names1',\n",
              "  'def split_name1(name_list1):\\n  list_split_names1 =[name1.split(\" \") for name1 in name_list1]\\n  return list_split_names1\\n\\ndef reverse_name1(split_names1):\\n  list_reverse_names1 = [name2[1] + \", \" + name2[0] for name2 in split_names1]\\n  return list_reverse_names1\\n\\ntest_split_name = split_name1(presidents_usa)\\ntest_reverse_name = reverse_name1(test_split_name)',\n",
              "  'def split_name1(name_list1):\\n  list_split_names1 =[name1.split(\" \") for name1 in name_list1]\\n  return list_split_names1\\n\\ndef reverse_name1(split_names1):\\n  list_reverse_names1 = [name2[1] + \", \" + name2[0] for name2 in split_names1]\\n  return list_reverse_names1\\n\\ntest_split_name1 = split_name1(presidents_usa)\\ntest_reverse_name1 = reverse_name1(test_split_name1)\\n\\ndisplay(test_reverse_name1)',\n",
              "  'locals()'],\n",
              " 'Out': {2: [['George', 'Washington'],\n",
              "   ['John', 'Adams'],\n",
              "   ['Thomas', 'Jefferson'],\n",
              "   ['James', 'Madison'],\n",
              "   ['James', 'Monroe'],\n",
              "   ['Andrew', 'Jackson']],\n",
              "  3: ['Washington, George',\n",
              "   'Adams, John',\n",
              "   'Jefferson, Thomas',\n",
              "   'Madison, James',\n",
              "   'Monroe, James',\n",
              "   'Jackson, Andrew']},\n",
              " 'get_ipython': <bound method InteractiveShell.get_ipython of <google.colab._shell.Shell object at 0x7b6fa9d7fa00>>,\n",
              " 'exit': <IPython.core.autocall.ZMQExitAutocall at 0x7b6fa9d7ffa0>,\n",
              " 'quit': <IPython.core.autocall.ZMQExitAutocall at 0x7b6fa9d7ffa0>,\n",
              " '_': ['Washington, George',\n",
              "  'Adams, John',\n",
              "  'Jefferson, Thomas',\n",
              "  'Madison, James',\n",
              "  'Monroe, James',\n",
              "  'Jackson, Andrew'],\n",
              " '__': [['George', 'Washington'],\n",
              "  ['John', 'Adams'],\n",
              "  ['Thomas', 'Jefferson'],\n",
              "  ['James', 'Madison'],\n",
              "  ['James', 'Monroe'],\n",
              "  ['Andrew', 'Jackson']],\n",
              " '___': '',\n",
              " '_i': '  def split_name1(name_list1):\\n    list_split_names1 =[name1.split(\" \") for name1 in name_list1]\\n    return list_split_names1\\n\\n  def reverse_name1(split_names1):\\n    list_reverse_names1 = [name2[1] + \", \" + name2[0] for name2 in split_names1]\\n    return list_reverse_names1\\n\\n  test_split_name1 = split_name1(presidents_usa)\\n  test_reverse_name1 = reverse_name1(test_split_name1)\\n\\n  display(test_reverse_name1)',\n",
              " '_ii': '  def split_name1(name_list1):\\n    list_split_names1 =[name1.split(\" \") for name1 in name_list1]\\n    return list_split_names1\\n\\n  def reverse_name1(split_names1):\\n    list_reverse_names1 = [name2[1] + \", \" + name2[0] for name2 in split_names1]\\n    return list_reverse_names1\\n\\n  test_split_name = split_name1(presidents_usa)\\n  test_reverse_name = reverse_name1(test_split_name)',\n",
              " '_iii': '  def split_name1(name_list1):\\n    list_split_names1 =[name1.split(\" \") for name1 in name_list1]\\n    return list_split_names1\\n\\n  def reverse_name1(split_names1):\\n    list_reverse_names1 = [name2[1] + \", \" + name2[0] for name2 in split_names1]\\n    return list_reverse_names1',\n",
              " '_i1': '# list of names\\npresidents_usa = [\"George Washington\", \"John Adams\",\"Thomas Jefferson\",\"James Madison\",\"James Monroe\",\"Andrew Jackson\"]',\n",
              " 'presidents_usa': ['George Washington',\n",
              "  'John Adams',\n",
              "  'Thomas Jefferson',\n",
              "  'James Madison',\n",
              "  'James Monroe',\n",
              "  'Andrew Jackson'],\n",
              " '_i2': '# divide the names into first and last name elements\\nsplit_names_var = [name.split(\" \") for name in presidents_usa]\\nsplit_names_var',\n",
              " 'split_names_var': [['George', 'Washington'],\n",
              "  ['John', 'Adams'],\n",
              "  ['Thomas', 'Jefferson'],\n",
              "  ['James', 'Madison'],\n",
              "  ['James', 'Monroe'],\n",
              "  ['Andrew', 'Jackson']],\n",
              " '_2': [['George', 'Washington'],\n",
              "  ['John', 'Adams'],\n",
              "  ['Thomas', 'Jefferson'],\n",
              "  ['James', 'Madison'],\n",
              "  ['James', 'Monroe'],\n",
              "  ['Andrew', 'Jackson']],\n",
              " '_i3': 'swapped_list_var = [split_name[1] + \", \" + split_name[0] for split_name in split_names_var]\\nswapped_list_var',\n",
              " 'swapped_list_var': ['Washington, George',\n",
              "  'Adams, John',\n",
              "  'Jefferson, Thomas',\n",
              "  'Madison, James',\n",
              "  'Monroe, James',\n",
              "  'Jackson, Andrew'],\n",
              " '_3': ['Washington, George',\n",
              "  'Adams, John',\n",
              "  'Jefferson, Thomas',\n",
              "  'Madison, James',\n",
              "  'Monroe, James',\n",
              "  'Jackson, Andrew'],\n",
              " '_i4': 'def name_reverse(name_list):\\n    # split the names into a list first and last names\\n    split_names_var = [name.split(\" \") for name in name_list]\\n#     print(split_names)\\n\\n    swapped_list_var = [split_name[1] + \", \" + split_name[0] for split_name in split_names_var]\\n#     print(swapped_list)\\n\\n    swapped_list_var.sort()\\n#     print(swapped_list)\\n\\n    return swapped_list_var',\n",
              " 'name_reverse': <function __main__.name_reverse(name_list)>,\n",
              " '_i5': '# test the function\\noutput_list = (name_reverse(presidents_usa))\\ndisplay(output_list)',\n",
              " 'output_list': ['Adams, John',\n",
              "  'Jackson, Andrew',\n",
              "  'Jefferson, Thomas',\n",
              "  'Madison, James',\n",
              "  'Monroe, James',\n",
              "  'Washington, George'],\n",
              " '_i6': 'def name_reverse_helper(name_list):\\n\\n    # this is a helper function\\n    def split_names_func(list_to_split):\\n        # split the names into a list first and last names\\n        split_name_list = [name.split(\" \") for name in list_to_split]\\n        return split_name_list\\n\\n     # this is another helper function\\n    def swap_names_func(list_to_swap):\\n        swapped_list = [swap_name[1] + \", \" + swap_name[0] for swap_name in list_to_swap]\\n        return swapped_list\\n\\n#     call first helper function\\n    first_list = split_names_func(name_list)\\n#     call second helper function\\n    alpha_list = swap_names_func(first_list)\\n\\n    alpha_list.sort()\\n\\n    return alpha_list',\n",
              " 'name_reverse_helper': <function __main__.name_reverse_helper(name_list)>,\n",
              " '_i7': '# test the function\\noutput_list = (name_reverse_helper(presidents_usa))\\ndisplay(output_list)',\n",
              " '_i8': \"# uncomment to illustrate error\\n# the error is because this function's scope is only within the main function in which it is defined.\\n# error_output = split_names_func(presidents_usa)\",\n",
              " '_i9': '# this is a global helper function\\ndef split_names_func_global(list_to_split):\\n    # split the names into a list first and last names\\n    split_name_list = [name.split(\" \") for name in list_to_split]\\n    return split_name_list',\n",
              " 'split_names_func_global': <function __main__.split_names_func_global(list_to_split)>,\n",
              " '_i10': '# this is another global helper function\\ndef swap_names_func_global(list_to_swap):\\n    swapped_list = [swap_name[1] + \", \" + swap_name[0] for swap_name in list_to_swap]\\n    return swapped_list',\n",
              " 'swap_names_func_global': <function __main__.swap_names_func_global(list_to_swap)>,\n",
              " '_i11': 'def name_reverse_helper_global(name_list):\\n\\n#     call first global helper function\\n    first_list = split_names_func_global(name_list)\\n#     call second global helper function\\n    alpha_list = swap_names_func_global(first_list)\\n\\n    alpha_list.sort()\\n\\n    return alpha_list',\n",
              " 'name_reverse_helper_global': <function __main__.name_reverse_helper_global(name_list)>,\n",
              " '_i12': '# test the function\\noutput_list = (name_reverse_helper_global(presidents_usa))\\ndisplay(output_list)',\n",
              " '_i13': '# list of names\\npresidents_usa = [\"George Washington\", \"John Adams\",\"Thomas Jefferson\",\"James Madison\",\"James Monroe\",\"Andrew Jackson\"]\\n\\ndef split',\n",
              " '_i14': '# list of names\\npresidents_usa = [\"George Washington\", \"John Adams\",\"Thomas Jefferson\",\"James Madison\",\"James Monroe\",\"Andrew Jackson\"]\\n\\nfor i in presidents_usa:\\n  split_name = i.split(\" \")\\n  print(split_name)\\n\\n\\n  \\ndef split_name(list_name):',\n",
              " '_i15': '# list of names\\npresidents_usa = [\"George Washington\", \"John Adams\",\"Thomas Jefferson\",\"James Madison\",\"James Monroe\",\"Andrew Jackson\"]\\n\\nfor i in presidents_usa:\\n  split_name = i.split(\" \")\\n  print(split_name)\\n\\n\\n\\n# def split_name(list_name):',\n",
              " 'i': 'Andrew Jackson',\n",
              " 'split_name': ['Andrew', 'Jackson'],\n",
              " '_i16': '# list of names\\npresidents_usa = [\"George Washington\", \"John Adams\",\"Thomas Jefferson\",\"James Madison\",\"James Monroe\",\"Andrew Jackson\"]\\n\\nlist_split_name =[]\\n\\nfor name in presidents_usa:\\n  split_name = name.split(\" \")\\n  list_split_name.append(split_name)\\n\\n\\n\\n# def split_name(list_name):',\n",
              " 'list_split_name': [['George', 'Washington'],\n",
              "  ['John', 'Adams'],\n",
              "  ['Thomas', 'Jefferson'],\n",
              "  ['James', 'Madison'],\n",
              "  ['James', 'Monroe'],\n",
              "  ['Andrew', 'Jackson']],\n",
              " 'name': ['Andrew', 'Jackson'],\n",
              " '_i17': '# list of names\\npresidents_usa = [\"George Washington\", \"John Adams\",\"Thomas Jefferson\",\"James Madison\",\"James Monroe\",\"Andrew Jackson\"]\\n\\nlist_split_name =[]\\n\\nfor name in presidents_usa:\\n  split_name = name.split(\" \")\\n  list_split_name.append(split_name)\\n\\nprint(list_split_name)\\n\\n\\n# def split_name(list_name):',\n",
              " '_i18': '# list of names\\npresidents_usa = [\"George Washington\", \"John Adams\",\"Thomas Jefferson\",\"James Madison\",\"James Monroe\",\"Andrew Jackson\"]\\n\\nlist_split_names =[]\\n\\nfor name in presidents_usa:\\n  split_name = name.split(\" \")\\n  list_split_names.append(split_name)\\n\\nprint(list_split_names)\\n\\nlist_reverse_names =[]\\nfor name in list_split_names:\\n  reverse_name = name[1] + \", \" + name[0]\\n  list_reverse_names.append(list_reverse_name)\\n\\nprint(list_reverse_names)\\n\\n\\n# def split_name(list_name):',\n",
              " 'list_split_names': [['George', 'Washington'],\n",
              "  ['John', 'Adams'],\n",
              "  ['Thomas', 'Jefferson'],\n",
              "  ['James', 'Madison'],\n",
              "  ['James', 'Monroe'],\n",
              "  ['Andrew', 'Jackson']],\n",
              " 'list_reverse_names': ['Washington, George',\n",
              "  'Adams, John',\n",
              "  'Jefferson, Thomas',\n",
              "  'Madison, James',\n",
              "  'Monroe, James',\n",
              "  'Jackson, Andrew'],\n",
              " 'reverse_name': 'Jackson, Andrew',\n",
              " '_i19': '# list of names\\npresidents_usa = [\"George Washington\", \"John Adams\",\"Thomas Jefferson\",\"James Madison\",\"James Monroe\",\"Andrew Jackson\"]\\n\\nlist_split_names =[]\\n\\nfor name in presidents_usa:\\n  split_name = name.split(\" \")\\n  list_split_names.append(split_name)\\n\\nprint(list_split_names)\\n\\nlist_reverse_names =[]\\nfor name in list_split_names:\\n  reverse_name = name[1] + \", \" + name[0]\\n  list_reverse_names.append(reverse_name)\\n\\nprint(list_reverse_names)\\n\\n\\n# def split_name(list_name):',\n",
              " '_i20': '# list of names\\npresidents_usa = [\"George Washington\", \"John Adams\",\"Thomas Jefferson\",\"James Madison\",\"James Monroe\",\"Andrew Jackson\"]\\n\\nlist_split_names =[]\\n\\nfor name in presidents_usa:\\n  split_name = name.split(\" \")\\n  list_split_names.append(split_name)\\n\\nprint(list_split_names)\\n\\nlist_reverse_names =[]\\nfor name in list_split_names:\\n  reverse_name = name[1] + \", \" + name[0]\\n  list_reverse_names.append(reverse_name)\\n\\ndisplay(list_reverse_names)\\n\\n\\n# def split_name(list_name):',\n",
              " '_i21': 'def reverse_helper(name_list):\\n\\n  def split_name1(name_list1):\\n    list_split_names1 =[]\\n\\n    for name1 in name_list1:\\n      split_name1 = name1.split(\" \")\\n      list_split_names1.append(split_name1)\\n    \\n    return list_split_names1\\n\\n    def reverse_name1(split_names1):\\n      list_reverse_names1 =[]\\n      for name2 in list_split_names:\\n        reverse_name1 = name2[1] + \", \" + name2[0]\\n        list_reverse_names1.append(reverse_name1)\\n\\n\\n  test_split_name = split_name1(name_list)\\n  test_reverse_name = reverse_name1(test_split_name)\\n\\n  return test_reverse_name\\n\\n\\ntest_final = reverse_helper(presidents_usa)\\ndisplay(test_final)',\n",
              " 'reverse_helper': <function __main__.reverse_helper(name_list)>,\n",
              " '_i22': 'def reverse_helper(name_list):\\n\\n  def split_name1(name_list1):\\n    list_split_names1 =[]\\n\\n    for name1 in name_list1:\\n      split_name1 = name1.split(\" \")\\n      list_split_names1.append(split_name1)\\n    \\n    return list_split_names1\\n\\n  def reverse_name1(split_names1):\\n    list_reverse_names1 =[]\\n    for name2 in list_split_names:\\n      reverse_name1 = name2[1] + \", \" + name2[0]\\n      list_reverse_names1.append(reverse_name1)\\n\\n\\n  test_split_name = split_name1(name_list)\\n  test_reverse_name = reverse_name1(test_split_name)\\n\\n  return test_reverse_name\\n\\n\\ntest_final = reverse_helper(presidents_usa)\\ndisplay(test_final)',\n",
              " 'test_final': ['Washington, George',\n",
              "  'Adams, John',\n",
              "  'Jefferson, Thomas',\n",
              "  'Madison, James',\n",
              "  'Monroe, James',\n",
              "  'Jackson, Andrew'],\n",
              " '_i23': 'def reverse_helper(name_list):\\n\\n  def split_name1(name_list1):\\n    list_split_names1 =[]\\n\\n    for name1 in name_list1:\\n      split_name1 = name1.split(\" \")\\n      list_split_names1.append(split_name1)\\n    \\n    return list_split_names1\\n\\n  def reverse_name1(split_names1):\\n    list_reverse_names1 =[]\\n    for name2 in list_split_names:\\n      reverse_name1 = name2[1] + \", \" + name2[0]\\n      list_reverse_names1.append(reverse_name1)\\n\\n\\n  test_split_name = split_name1(name_list)\\n  print(test_split_name)\\n  test_reverse_name = reverse_name1(test_split_name)\\n\\n  return test_reverse_name\\n\\n\\ntest_final = reverse_helper(presidents_usa)\\ndisplay(test_final)',\n",
              " '_i24': 'def reverse_helper(name_list):\\n\\n  def split_name1(name_list1):\\n    list_split_names1 =[]\\n\\n    for name1 in name_list1:\\n      split_name1 = name1.split(\" \")\\n      list_split_names1.append(split_name1)\\n    \\n    return list_split_names1\\n\\n  def reverse_name1(split_names1):\\n    list_reverse_names1 =[]\\n    for name2 in list_split_names:\\n      reverse_name1 = name2[1] + \", \" + name2[0]\\n      list_reverse_names1.append(reverse_name1)\\n    return list_reverse_names1\\n\\n\\n  test_split_name = split_name1(name_list)\\n  # print(test_split_name)\\n  test_reverse_name = reverse_name1(test_split_name)\\n\\n  return test_reverse_name\\n\\n\\ntest_final = reverse_helper(presidents_usa)\\ndisplay(test_final)',\n",
              " '_i25': '  def split_name1(name_list1):\\n    list_split_names1 =[name1.split(\" \") for name1 in name_list1]\\n    return list_split_names1\\n\\n  def reverse_name1(split_names1):\\n    list_reverse_names1 = [name2[1] + \", \" + name2[0] for name2 in split_names1]\\n    return list_reverse_names1',\n",
              " 'split_name1': <function __main__.split_name1(name_list1)>,\n",
              " 'reverse_name1': <function __main__.reverse_name1(split_names1)>,\n",
              " '_i26': '  def split_name1(name_list1):\\n    list_split_names1 =[name1.split(\" \") for name1 in name_list1]\\n    return list_split_names1\\n\\n  def reverse_name1(split_names1):\\n    list_reverse_names1 = [name2[1] + \", \" + name2[0] for name2 in split_names1]\\n    return list_reverse_names1\\n\\n  test_split_name = split_name1(presidents_usa)\\n  test_reverse_name = reverse_name1(test_split_name)',\n",
              " 'test_split_name': [['George', 'Washington'],\n",
              "  ['John', 'Adams'],\n",
              "  ['Thomas', 'Jefferson'],\n",
              "  ['James', 'Madison'],\n",
              "  ['James', 'Monroe'],\n",
              "  ['Andrew', 'Jackson']],\n",
              " 'test_reverse_name': ['Washington, George',\n",
              "  'Adams, John',\n",
              "  'Jefferson, Thomas',\n",
              "  'Madison, James',\n",
              "  'Monroe, James',\n",
              "  'Jackson, Andrew'],\n",
              " '_i27': '  def split_name1(name_list1):\\n    list_split_names1 =[name1.split(\" \") for name1 in name_list1]\\n    return list_split_names1\\n\\n  def reverse_name1(split_names1):\\n    list_reverse_names1 = [name2[1] + \", \" + name2[0] for name2 in split_names1]\\n    return list_reverse_names1\\n\\n  test_split_name1 = split_name1(presidents_usa)\\n  test_reverse_name1 = reverse_name1(test_split_name1)\\n\\n  display(test_reverse_name1)',\n",
              " 'test_split_name1': [['George', 'Washington'],\n",
              "  ['John', 'Adams'],\n",
              "  ['Thomas', 'Jefferson'],\n",
              "  ['James', 'Madison'],\n",
              "  ['James', 'Monroe'],\n",
              "  ['Andrew', 'Jackson']],\n",
              " 'test_reverse_name1': ['Washington, George',\n",
              "  'Adams, John',\n",
              "  'Jefferson, Thomas',\n",
              "  'Madison, James',\n",
              "  'Monroe, James',\n",
              "  'Jackson, Andrew'],\n",
              " '_i28': 'locals()'}"
            ]
          },
          "metadata": {},
          "execution_count": 28
        }
      ],
      "source": [
        "locals()"
      ]
    },
    {
      "cell_type": "code",
      "source": [],
      "metadata": {
        "id": "Zsjek3RoPnSq"
      },
      "id": "Zsjek3RoPnSq",
      "execution_count": null,
      "outputs": []
    }
  ],
  "metadata": {
    "kernelspec": {
      "display_name": "Python 3 (ipykernel)",
      "language": "python",
      "name": "python3"
    },
    "language_info": {
      "codemirror_mode": {
        "name": "ipython",
        "version": 3
      },
      "file_extension": ".py",
      "mimetype": "text/x-python",
      "name": "python",
      "nbconvert_exporter": "python",
      "pygments_lexer": "ipython3",
      "version": "3.9.13"
    },
    "colab": {
      "provenance": [],
      "include_colab_link": true
    }
  },
  "nbformat": 4,
  "nbformat_minor": 5
}