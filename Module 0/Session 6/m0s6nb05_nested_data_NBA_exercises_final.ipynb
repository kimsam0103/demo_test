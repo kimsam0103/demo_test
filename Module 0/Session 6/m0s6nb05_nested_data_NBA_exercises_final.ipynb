{
  "cells": [
    {
      "cell_type": "markdown",
      "metadata": {
        "id": "view-in-github",
        "colab_type": "text"
      },
      "source": [
        "<a href=\"https://colab.research.google.com/github/kimsam0103/demo_test/blob/master/Module%200/Session%206/m0s6nb05_nested_data_NBA_exercises_final.ipynb\" target=\"_parent\"><img src=\"https://colab.research.google.com/assets/colab-badge.svg\" alt=\"Open In Colab\"/></a>"
      ]
    },
    {
      "cell_type": "markdown",
      "id": "47502a76",
      "metadata": {
        "id": "47502a76"
      },
      "source": [
        "# Nested Data Structures: NBA Player Analysis -- Part 2\n",
        "\n",
        "## This notebook is an application of the NBA nested data notebook.\n",
        "\n",
        "## We will be taking this nested data structure and working through what might be a typical 2 or 3 point exam exercise. This will require us to execute multiple steps to come to our final answer.\n",
        "\n",
        "### We will use a helper function as a part of the solution."
      ]
    },
    {
      "cell_type": "code",
      "source": [
        "!wget https://raw.githubusercontent.com/gt-cse-6040/bootcamp/main/Module%200/Session%206/nba_json.txt"
      ],
      "metadata": {
        "id": "-qJuTz1LljJ-",
        "outputId": "0b5562e0-6050-4370-edcd-8613989caaaa",
        "colab": {
          "base_uri": "https://localhost:8080/"
        }
      },
      "id": "-qJuTz1LljJ-",
      "execution_count": 1,
      "outputs": [
        {
          "output_type": "stream",
          "name": "stdout",
          "text": [
            "--2024-01-30 00:19:08--  https://raw.githubusercontent.com/gt-cse-6040/bootcamp/main/Module%200/Session%206/nba_json.txt\n",
            "Resolving raw.githubusercontent.com (raw.githubusercontent.com)... 185.199.110.133, 185.199.111.133, 185.199.108.133, ...\n",
            "Connecting to raw.githubusercontent.com (raw.githubusercontent.com)|185.199.110.133|:443... connected.\n",
            "HTTP request sent, awaiting response... 200 OK\n",
            "Length: 8903 (8.7K) [text/plain]\n",
            "Saving to: ‘nba_json.txt’\n",
            "\n",
            "\rnba_json.txt          0%[                    ]       0  --.-KB/s               \rnba_json.txt        100%[===================>]   8.69K  --.-KB/s    in 0s      \n",
            "\n",
            "2024-01-30 00:19:08 (69.3 MB/s) - ‘nba_json.txt’ saved [8903/8903]\n",
            "\n"
          ]
        }
      ]
    },
    {
      "cell_type": "markdown",
      "id": "6418b53f",
      "metadata": {
        "id": "6418b53f"
      },
      "source": [
        "#### Data loading. This will normally be provided in the exam, and the students will not be required to load data from input files."
      ]
    },
    {
      "cell_type": "code",
      "execution_count": 2,
      "id": "c813cfad",
      "metadata": {
        "scrolled": true,
        "id": "c813cfad"
      },
      "outputs": [],
      "source": [
        "# loading the data, same as the previous NB\n",
        "# import the required package\n",
        "import ast\n",
        "\n",
        "# reading the data from the json file\n",
        "with open('nba_json.txt') as f:\n",
        "    data = f.readlines()\n",
        "\n",
        "nested = [] # this is going to be our nested data structure\n",
        "#put each line(string) into a dictionary\n",
        "for line in data:\n",
        "    result = ast.literal_eval(line)\n",
        "#     print(result)\n",
        "    nested.append(result)"
      ]
    },
    {
      "cell_type": "markdown",
      "id": "6bb3da9d",
      "metadata": {
        "id": "6bb3da9d"
      },
      "source": [
        "### As we know from the previous NB, the key 'resultSets' contains the data the we will want to manipulate.\n",
        "\n",
        "### Let's take a look at it again. This step will generally be provided on the exam, for the student to be able to visualize the source data that is to be analyzed."
      ]
    },
    {
      "cell_type": "code",
      "source": [
        "print(nested[0]['resultSets'][0])\n",
        "print('\\n')"
      ],
      "metadata": {
        "id": "00Js9ULGvZ-d",
        "outputId": "901578b1-a7b9-42c1-d824-d6502bf44c54",
        "colab": {
          "base_uri": "https://localhost:8080/"
        }
      },
      "id": "00Js9ULGvZ-d",
      "execution_count": 7,
      "outputs": [
        {
          "output_type": "stream",
          "name": "stdout",
          "text": [
            "{'name': 'SeasonMatchups', 'headers': ['SEASON_ID', 'OFF_PLAYER_ID', 'OFF_PLAYER_NAME', 'DEF_PLAYER_ID', 'DEF_PLAYER_NAME', 'GP', 'MATCHUP_MIN', 'PARTIAL_POSS', 'PLAYER_PTS', 'TEAM_PTS', 'MATCHUP_AST', 'MATCHUP_TOV', 'MATCHUP_BLK', 'MATCHUP_FGM', 'MATCHUP_FGA', 'MATCHUP_FG_PCT', 'MATCHUP_FG3M', 'MATCHUP_FG3A', 'MATCHUP_FG3_PCT', 'HELP_BLK', 'HELP_FGM', 'HELP_FGA', 'HELP_FG_PERC', 'MATCHUP_FTM', 'MATCHUP_FTA', 'SFL', 'MATCHUP_TIME_SEC'], 'rowSet': [['22019', 1629060, 'Rui Hachimura', 202329, 'Al-Farouq Aminu', 1, '6:45', 31.9, 4, 47, 1, 0, 0, 2, 5, 0.4, 0, 0, 0.0, 0, 0, 0, 0, 0, 0, 0, 404.7], ['22019', 1626168, 'Trey Lyles', 202329, 'Al-Farouq Aminu', 1, '7:31', 30.5, 3, 22, 0, 1, 0, 1, 3, 0.333, 1, 2, 0.5, 0, 0, 0, 0, 0, 0, 0, 451.1], ['22019', 1628384, 'OG Anunoby', 202329, 'Al-Farouq Aminu', 3, '5:56', 29.3, 5, 37, 1, 1, 1, 2, 4, 0.5, 1, 2, 0.5, 0, 0, 0, 0, 0, 0, 0, 355.6], ['22019', 201567, 'Kevin Love', 202329, 'Al-Farouq Aminu', 2, '5:17', 25.0, 4, 14, 0, 1, 0, 2, 3, 0.667, 0, 1, 0.0, 0, 0, 0, 0, 0, 0, 0, 316.8]]}\n",
            "\n",
            "\n"
          ]
        }
      ]
    },
    {
      "cell_type": "code",
      "source": [
        "type(nested)\n",
        "\n",
        "for i in range(len(nested)):\n",
        "  print(type(nested[i]))"
      ],
      "metadata": {
        "id": "RkGBcaGxz4wr",
        "outputId": "e01feb33-9a96-4be5-bfe0-30459ae54357",
        "colab": {
          "base_uri": "https://localhost:8080/"
        }
      },
      "id": "RkGBcaGxz4wr",
      "execution_count": 15,
      "outputs": [
        {
          "output_type": "stream",
          "name": "stdout",
          "text": [
            "<class 'dict'>\n",
            "<class 'dict'>\n",
            "<class 'dict'>\n",
            "<class 'dict'>\n",
            "<class 'dict'>\n",
            "<class 'dict'>\n",
            "<class 'dict'>\n"
          ]
        }
      ]
    },
    {
      "cell_type": "code",
      "source": [
        "print(nested[6]['resultSets'][0]['rowSet'][0][0:5])\n",
        "print('\\n')"
      ],
      "metadata": {
        "id": "GSNoRh4y0HiJ",
        "outputId": "2ad98be6-5324-4545-f9d4-94ba854e313e",
        "colab": {
          "base_uri": "https://localhost:8080/"
        }
      },
      "id": "GSNoRh4y0HiJ",
      "execution_count": 16,
      "outputs": [
        {
          "output_type": "stream",
          "name": "stdout",
          "text": [
            "['22019', 1628374, 'Lauri Markkanen', 203507, 'Giannis Antetokounmpo']\n",
            "\n",
            "\n"
          ]
        }
      ]
    },
    {
      "cell_type": "code",
      "source": [
        "print(nested[0]['resultSets'][0]['headers'][0:5])\n",
        "print('\\n')"
      ],
      "metadata": {
        "id": "wECSk2xMwQid",
        "outputId": "e8a45858-cda5-4fee-d408-65e0b4e26d1a",
        "colab": {
          "base_uri": "https://localhost:8080/"
        }
      },
      "id": "wECSk2xMwQid",
      "execution_count": 9,
      "outputs": [
        {
          "output_type": "stream",
          "name": "stdout",
          "text": [
            "['SEASON_ID', 'OFF_PLAYER_ID', 'OFF_PLAYER_NAME', 'DEF_PLAYER_ID', 'DEF_PLAYER_NAME']\n",
            "\n",
            "\n"
          ]
        }
      ]
    },
    {
      "cell_type": "code",
      "source": [
        "print(nested[0]['resultSets'][0]['rowSet'][0][0:5])\n",
        "print('\\n')"
      ],
      "metadata": {
        "id": "WbpfAW1vwImr",
        "outputId": "2786e5d7-4b32-48d2-e2b0-6462e29991ce",
        "colab": {
          "base_uri": "https://localhost:8080/"
        }
      },
      "id": "WbpfAW1vwImr",
      "execution_count": 10,
      "outputs": [
        {
          "output_type": "stream",
          "name": "stdout",
          "text": [
            "['22019', 1629060, 'Rui Hachimura', 202329, 'Al-Farouq Aminu']\n",
            "\n",
            "\n"
          ]
        }
      ]
    },
    {
      "cell_type": "code",
      "execution_count": 3,
      "id": "99280f6a",
      "metadata": {
        "id": "99280f6a",
        "outputId": "e6f92954-76f1-443d-8b30-cee1f2997bc5",
        "colab": {
          "base_uri": "https://localhost:8080/"
        }
      },
      "outputs": [
        {
          "output_type": "stream",
          "name": "stdout",
          "text": [
            "[{'name': 'SeasonMatchups', 'headers': ['SEASON_ID', 'OFF_PLAYER_ID', 'OFF_PLAYER_NAME', 'DEF_PLAYER_ID', 'DEF_PLAYER_NAME', 'GP', 'MATCHUP_MIN', 'PARTIAL_POSS', 'PLAYER_PTS', 'TEAM_PTS', 'MATCHUP_AST', 'MATCHUP_TOV', 'MATCHUP_BLK', 'MATCHUP_FGM', 'MATCHUP_FGA', 'MATCHUP_FG_PCT', 'MATCHUP_FG3M', 'MATCHUP_FG3A', 'MATCHUP_FG3_PCT', 'HELP_BLK', 'HELP_FGM', 'HELP_FGA', 'HELP_FG_PERC', 'MATCHUP_FTM', 'MATCHUP_FTA', 'SFL', 'MATCHUP_TIME_SEC'], 'rowSet': [['22019', 1629060, 'Rui Hachimura', 202329, 'Al-Farouq Aminu', 1, '6:45', 31.9, 4, 47, 1, 0, 0, 2, 5, 0.4, 0, 0, 0.0, 0, 0, 0, 0, 0, 0, 0, 404.7], ['22019', 1626168, 'Trey Lyles', 202329, 'Al-Farouq Aminu', 1, '7:31', 30.5, 3, 22, 0, 1, 0, 1, 3, 0.333, 1, 2, 0.5, 0, 0, 0, 0, 0, 0, 0, 451.1], ['22019', 1628384, 'OG Anunoby', 202329, 'Al-Farouq Aminu', 3, '5:56', 29.3, 5, 37, 1, 1, 1, 2, 4, 0.5, 1, 2, 0.5, 0, 0, 0, 0, 0, 0, 0, 355.6], ['22019', 201567, 'Kevin Love', 202329, 'Al-Farouq Aminu', 2, '5:17', 25.0, 4, 14, 0, 1, 0, 2, 3, 0.667, 0, 1, 0.0, 0, 0, 0, 0, 0, 0, 0, 316.8]]}]\n",
            "\n",
            "\n",
            "dict_keys(['name', 'headers', 'rowSet'])\n"
          ]
        }
      ],
      "source": [
        "print(nested[0]['resultSets'])\n",
        "print('\\n')\n",
        "print(nested[0]['resultSets'][0].keys())"
      ]
    },
    {
      "cell_type": "markdown",
      "id": "a65a6f50",
      "metadata": {
        "id": "a65a6f50"
      },
      "source": [
        "## Note that this is a list containing a single dictionary, with three keys. Remember also that we showed this in Python Tutor, in the previous notebook.\n",
        "\n",
        "#### The key 'rowSet' contains the statistics that we are interested in, and the key 'headers' defines what each of the statisics is.\n",
        "\n",
        "#### Note that this first dict is for the player Al-Farouq Aminu, with the player_id 202329."
      ]
    },
    {
      "cell_type": "code",
      "execution_count": 4,
      "id": "eb261382",
      "metadata": {
        "scrolled": true,
        "id": "eb261382",
        "outputId": "be81d586-cf6f-40b4-a052-c4b8fc54d4d8",
        "colab": {
          "base_uri": "https://localhost:8080/"
        }
      },
      "outputs": [
        {
          "output_type": "stream",
          "name": "stdout",
          "text": [
            "['SEASON_ID', 'OFF_PLAYER_ID', 'OFF_PLAYER_NAME', 'DEF_PLAYER_ID', 'DEF_PLAYER_NAME', 'GP', 'MATCHUP_MIN', 'PARTIAL_POSS', 'PLAYER_PTS', 'TEAM_PTS', 'MATCHUP_AST', 'MATCHUP_TOV', 'MATCHUP_BLK', 'MATCHUP_FGM', 'MATCHUP_FGA', 'MATCHUP_FG_PCT', 'MATCHUP_FG3M', 'MATCHUP_FG3A', 'MATCHUP_FG3_PCT', 'HELP_BLK', 'HELP_FGM', 'HELP_FGA', 'HELP_FG_PERC', 'MATCHUP_FTM', 'MATCHUP_FTA', 'SFL', 'MATCHUP_TIME_SEC']\n",
            "\n",
            "\n",
            "[['22019', 1629060, 'Rui Hachimura', 202329, 'Al-Farouq Aminu', 1, '6:45', 31.9, 4, 47, 1, 0, 0, 2, 5, 0.4, 0, 0, 0.0, 0, 0, 0, 0, 0, 0, 0, 404.7], ['22019', 1626168, 'Trey Lyles', 202329, 'Al-Farouq Aminu', 1, '7:31', 30.5, 3, 22, 0, 1, 0, 1, 3, 0.333, 1, 2, 0.5, 0, 0, 0, 0, 0, 0, 0, 451.1], ['22019', 1628384, 'OG Anunoby', 202329, 'Al-Farouq Aminu', 3, '5:56', 29.3, 5, 37, 1, 1, 1, 2, 4, 0.5, 1, 2, 0.5, 0, 0, 0, 0, 0, 0, 0, 355.6], ['22019', 201567, 'Kevin Love', 202329, 'Al-Farouq Aminu', 2, '5:17', 25.0, 4, 14, 0, 1, 0, 2, 3, 0.667, 0, 1, 0.0, 0, 0, 0, 0, 0, 0, 0, 316.8]]\n",
            "\n",
            "\n",
            "['22019', 1629060, 'Rui Hachimura', 202329, 'Al-Farouq Aminu', 1, '6:45', 31.9, 4, 47, 1, 0, 0, 2, 5, 0.4, 0, 0, 0.0, 0, 0, 0, 0, 0, 0, 0, 404.7]\n"
          ]
        }
      ],
      "source": [
        "print(nested[0]['resultSets'][0]['headers'])\n",
        "print('\\n')\n",
        "print(nested[0]['resultSets'][0]['rowSet'])\n",
        "print('\\n')\n",
        "print(nested[0]['resultSets'][0]['rowSet'][0])\n",
        "# print('\\n')\n",
        "# print(nested[0]['resultSets'][0]['rowSet'][1])"
      ]
    },
    {
      "cell_type": "markdown",
      "id": "015586cf",
      "metadata": {
        "id": "015586cf"
      },
      "source": [
        "## Exercise 0 (3 points)\n",
        "\n",
        "### Who are the players that each defensive player guarded during the season, and how effective was the defensive player against each?\n",
        "\n",
        "### Write a function, `players_guarded_minutes_dict_sorted(var_stats, DEF_PLAYER_NAME)` that outputs a list of dictionaries.\n",
        "\n",
        "1. Within the list, there will be an individual dictionary for each defensive player name.\n",
        "\n",
        "2. The dictionary key is the defensive player's name, and the value is a list of tuples.\n",
        "\n",
        "    a. The first item of each tuple is the name of the offensive players he guarded, and the second item of the tuple is the number of points allowed.\n",
        "\n",
        "    b. The list of tuples should be sorted by the number of points allowed, from most to least.\n",
        "\n",
        "    c. If the points are the same, then sort by the name in alphabetical order.\n",
        "    \n",
        "#### Note that items b and c, the sorting, are requirements that are VERY COMMON to see on exams."
      ]
    },
    {
      "cell_type": "markdown",
      "id": "8dbb3cd7",
      "metadata": {
        "id": "8dbb3cd7"
      },
      "source": [
        "#### For the function, the `var_stats` parameter will be the `nested` variable. This is a list of dictionaries.\n",
        "\n",
        "#### The `DEF_PLAYER_NAME` parameter will be a list of the defensive players to include in the output dictionary.\n",
        "\n",
        "For example, an input might be:"
      ]
    },
    {
      "cell_type": "code",
      "execution_count": 11,
      "id": "a714b08e",
      "metadata": {
        "id": "a714b08e"
      },
      "outputs": [],
      "source": [
        "var_stats = (nested)\n",
        "DEF_PLAYER_NAME = ['Al-Farouq Aminu','Bam Adebayo','Giannis Antetokounmpo',\n",
        "                   'Nickeil Alexander-Walker', 'Kyle Anderson', 'Jarrett Allen', 'Grayson Allen']\n",
        "# print(var_stats)\n",
        "# print(DEF_PLAYER_NAME)"
      ]
    },
    {
      "cell_type": "markdown",
      "id": "9298c43f",
      "metadata": {
        "id": "9298c43f"
      },
      "source": [
        "#### To solve the problem, your function might do the following:\n",
        "\n",
        "1. Create an empty list to return (overall list)\n",
        "\n",
        "2. Loop over the list of the defensive players\n",
        "\n",
        "    a. For each defensive player, find the nested dictionary with this player's information. The dictionary will be at the following level:\n",
        "\n",
        "        `players_guarded_dict(nested[#]['resultSets'][0]`.\n",
        "\n",
        "\n",
        "    b. Loop over the players guarded -- You might want to use a helper function for the below activities\n",
        "        i. create each tuple, with name and points allowed.\n",
        "\n",
        "        ii. Append each tuple to the list for the player\n",
        "\n",
        "        iii. Sort the list of tuples\n",
        "\n",
        "    e. Populate the dictionary for that player, with key being the defensive player name and the value being the list of tuples.\n",
        "    \n",
        "    f. Append the overall list with that player's dictionary\n",
        "    \n",
        "3. Return the overall list\n",
        "\n",
        "## <span style=\"background-color: #FFFF00\"> If you see something like this on an exam, this is giving you the steps that you will want to take for your solution.</span>\n",
        "\n",
        "## <span style=\"background-color: #FFFF00\"> So these are the steps of your `STRATEGY` in the `Problem Solving Method`.</span>"
      ]
    },
    {
      "cell_type": "markdown",
      "id": "401aa6d9",
      "metadata": {
        "id": "401aa6d9"
      },
      "source": [
        "#### If your code executes successfully, the output will be:"
      ]
    },
    {
      "cell_type": "code",
      "execution_count": 17,
      "id": "76564ad1",
      "metadata": {
        "id": "76564ad1"
      },
      "outputs": [],
      "source": [
        "final_result = [{'Al-Farouq Aminu': [('OG Anunoby', 5), ('Kevin Love', 4), ('Rui Hachimura', 4), ('Trey Lyles', 3)]},\n",
        "                {'Bam Adebayo': [('Joel Embiid', 31), ('Nikola Vucevic', 22), ('Myles Turner', 13), ('John Collins', 10)]},\n",
        "                {'Giannis Antetokounmpo': [('Kevin Love', 23), ('Lauri Markkanen', 11), ('Ben Simmons', 5), ('Myles Turner', 5)]},\n",
        "                {'Nickeil Alexander-Walker': [('Jordan Clarkson', 16), ('Seth Curry', 5), ('Jerome Robinson', 0)]},\n",
        "                {'Kyle Anderson': [('Joe Ingles', 21), ('Harrison Barnes', 17), ('Aaron Gordon', 6), ('Nemanja Bjelica', 3)]},\n",
        "                {'Jarrett Allen': [('Bam Adebayo', 27), ('Andre Drummond', 21), ('Nikola Vucevic', 21), ('Daniel Theis', 13)]},\n",
        "                {'Grayson Allen': [('Donovan Mitchell', 11), ('Bryn Forbes', 4), ('Kyle Korver', 3)]}]"
      ]
    },
    {
      "cell_type": "markdown",
      "id": "62b3fc05",
      "metadata": {
        "id": "62b3fc05"
      },
      "source": [
        "#### How are we going to find the values that we need?"
      ]
    },
    {
      "cell_type": "code",
      "source": [
        "var_stats = (nested)\n",
        "DEF_PLAYER_NAME = ['Al-Farouq Aminu','Bam Adebayo','Giannis Antetokounmpo',\n",
        "                   'Nickeil Alexander-Walker', 'Kyle Anderson', 'Jarrett Allen', 'Grayson Allen']"
      ],
      "metadata": {
        "id": "pbMm7-a-0m69"
      },
      "id": "pbMm7-a-0m69",
      "execution_count": 18,
      "outputs": []
    },
    {
      "cell_type": "code",
      "source": [
        "# for i in DEF_PLAYER_NAME:\n",
        "#   print(i)\n",
        "# aa = nested[0]['resultSets'][0]['headers']\n",
        "# bb = nested[0]['resultSets'][0]['rowSet'][0]\n",
        "# print(aa)\n",
        "# print(bb)\n",
        "\n",
        "pts = nested[0]['resultSets'][0]['rowSet'][0][8]\n",
        "def_player_name = nested[0]['resultSets'][0]['rowSet'][0][4]\n",
        "off_player_name = nested[0]['resultSets'][0]['rowSet'][0][2]\n",
        "dict_def={def_player_name: (off_player_name, pts)}\n",
        "\n",
        "print(dict_def)\n",
        "\n"
      ],
      "metadata": {
        "id": "8bVupctk0qPN",
        "outputId": "61cc80d2-25bf-42bd-c3be-5db82463515c",
        "colab": {
          "base_uri": "https://localhost:8080/"
        }
      },
      "id": "8bVupctk0qPN",
      "execution_count": 80,
      "outputs": [
        {
          "output_type": "stream",
          "name": "stdout",
          "text": [
            "{'Al-Farouq Aminu': ('Rui Hachimura', 4)}\n"
          ]
        }
      ]
    },
    {
      "cell_type": "code",
      "source": [
        "print(len(nested))"
      ],
      "metadata": {
        "id": "FBoLS0KZ45NW",
        "outputId": "12697168-19d3-45f8-e6d2-bdbbf52ea579",
        "colab": {
          "base_uri": "https://localhost:8080/"
        }
      },
      "id": "FBoLS0KZ45NW",
      "execution_count": 51,
      "outputs": [
        {
          "output_type": "stream",
          "name": "stdout",
          "text": [
            "7\n"
          ]
        }
      ]
    },
    {
      "cell_type": "code",
      "source": [],
      "metadata": {
        "id": "5GyWrF_yCNJ8",
        "outputId": "a138463c-1956-469b-f6be-127915ffddf1",
        "colab": {
          "base_uri": "https://localhost:8080/",
          "height": 468
        }
      },
      "id": "5GyWrF_yCNJ8",
      "execution_count": 90,
      "outputs": [
        {
          "output_type": "display_data",
          "data": {
            "text/plain": [
              "[{'Al-Farouq Aminu': [('OG Anunoby', 5),\n",
              "   ('Kevin Love', 4),\n",
              "   ('Rui Hachimura', 4),\n",
              "   ('Trey Lyles', 3)]},\n",
              " {'Bam Adebayo': [('Joel Embiid', 31),\n",
              "   ('Nikola Vucevic', 22),\n",
              "   ('Myles Turner', 13),\n",
              "   ('John Collins', 10)]},\n",
              " {'Giannis Antetokounmpo': [('Kevin Love', 23),\n",
              "   ('Lauri Markkanen', 11),\n",
              "   ('Ben Simmons', 5),\n",
              "   ('Myles Turner', 5)]},\n",
              " {'Nickeil Alexander-Walker': [('Jordan Clarkson', 16),\n",
              "   ('Seth Curry', 5),\n",
              "   ('Jerome Robinson', 0)]},\n",
              " {'Kyle Anderson': [('Joe Ingles', 21),\n",
              "   ('Harrison Barnes', 17),\n",
              "   ('Aaron Gordon', 6),\n",
              "   ('Nemanja Bjelica', 3)]},\n",
              " {'Jarrett Allen': [('Bam Adebayo', 27),\n",
              "   ('Andre Drummond', 21),\n",
              "   ('Nikola Vucevic', 21),\n",
              "   ('Daniel Theis', 13)]},\n",
              " {'Grayson Allen': [('Donovan Mitchell', 11),\n",
              "   ('Bryn Forbes', 4),\n",
              "   ('Kyle Korver', 3)]}]"
            ]
          },
          "metadata": {}
        }
      ]
    },
    {
      "cell_type": "code",
      "source": [
        "nested_list = nested[0]['resultSets'][0]['rowSet']\n",
        "type(nested_list)\n",
        "print(len(nested_list))\n",
        "\n",
        "final_list=[]\n",
        "\n",
        "for j in range(len(nested)):\n",
        "  def_player_name = nested[j]['resultSets'][0]['rowSet'][0][4]\n",
        "  # print(j, \" | \", DEF_PLAYER_NAME[j], \" | \", def_player_name)\n",
        "\n",
        "\n",
        "  off_pts_list = []\n",
        "\n",
        "  for i in range(len(nested[j]['resultSets'][0]['rowSet'])):\n",
        "    # print(i,\" | \", nested[j]['resultSets'][0]['rowSet'])\n",
        "    pts = nested[j]['resultSets'][0]['rowSet'][i][8]\n",
        "    def_player_name = nested[j]['resultSets'][0]['rowSet'][i][4]\n",
        "    off_player_name = nested[j]['resultSets'][0]['rowSet'][i][2]\n",
        "    off_pts_list.append((off_player_name, pts))\n",
        "\n",
        "  sorted_off_pts_list = sorted(off_pts_list, key = lambda x: (-x[1], x[0]))\n",
        "  # sorted_off_pts_list = sorted(off_pts_list, key = lambda x: x[1], reverse=True)\n",
        "\n",
        "\n",
        "  def_dict = {def_player_name: sorted_off_pts_list}\n",
        "\n",
        "  final_list.append(def_dict)\n",
        "\n",
        "display(sorted_final_list)"
      ],
      "metadata": {
        "id": "1yus9r0d20gY",
        "outputId": "6c97920e-6560-4a3d-9837-8bacc443aa48",
        "colab": {
          "base_uri": "https://localhost:8080/",
          "height": 485
        }
      },
      "id": "1yus9r0d20gY",
      "execution_count": 86,
      "outputs": [
        {
          "output_type": "stream",
          "name": "stdout",
          "text": [
            "4\n"
          ]
        },
        {
          "output_type": "display_data",
          "data": {
            "text/plain": [
              "[{'Al-Farouq Aminu': [('OG Anunoby', 5),\n",
              "   ('Kevin Love', 4),\n",
              "   ('Rui Hachimura', 4),\n",
              "   ('Trey Lyles', 3)]},\n",
              " {'Bam Adebayo': [('Joel Embiid', 31),\n",
              "   ('Nikola Vucevic', 22),\n",
              "   ('Myles Turner', 13),\n",
              "   ('John Collins', 10)]},\n",
              " {'Giannis Antetokounmpo': [('Kevin Love', 23),\n",
              "   ('Lauri Markkanen', 11),\n",
              "   ('Ben Simmons', 5),\n",
              "   ('Myles Turner', 5)]},\n",
              " {'Grayson Allen': [('Donovan Mitchell', 11),\n",
              "   ('Bryn Forbes', 4),\n",
              "   ('Kyle Korver', 3)]},\n",
              " {'Jarrett Allen': [('Bam Adebayo', 27),\n",
              "   ('Andre Drummond', 21),\n",
              "   ('Nikola Vucevic', 21),\n",
              "   ('Daniel Theis', 13)]},\n",
              " {'Kyle Anderson': [('Joe Ingles', 21),\n",
              "   ('Harrison Barnes', 17),\n",
              "   ('Aaron Gordon', 6),\n",
              "   ('Nemanja Bjelica', 3)]},\n",
              " {'Nickeil Alexander-Walker': [('Jordan Clarkson', 16),\n",
              "   ('Seth Curry', 5),\n",
              "   ('Jerome Robinson', 0)]}]"
            ]
          },
          "metadata": {}
        }
      ]
    },
    {
      "cell_type": "code",
      "execution_count": 7,
      "id": "3e57125a",
      "metadata": {
        "id": "3e57125a",
        "outputId": "835ad682-75de-4c2c-f8f1-3d50a2936a04",
        "colab": {
          "base_uri": "https://localhost:8080/"
        }
      },
      "outputs": [
        {
          "output_type": "stream",
          "name": "stdout",
          "text": [
            "What does each dictionary look like, in var_stats?\n",
            "{'name': 'SeasonMatchups', 'headers': ['SEASON_ID', 'OFF_PLAYER_ID', 'OFF_PLAYER_NAME', 'DEF_PLAYER_ID', 'DEF_PLAYER_NAME', 'GP', 'MATCHUP_MIN', 'PARTIAL_POSS', 'PLAYER_PTS', 'TEAM_PTS', 'MATCHUP_AST', 'MATCHUP_TOV', 'MATCHUP_BLK', 'MATCHUP_FGM', 'MATCHUP_FGA', 'MATCHUP_FG_PCT', 'MATCHUP_FG3M', 'MATCHUP_FG3A', 'MATCHUP_FG3_PCT', 'HELP_BLK', 'HELP_FGM', 'HELP_FGA', 'HELP_FG_PERC', 'MATCHUP_FTM', 'MATCHUP_FTA', 'SFL', 'MATCHUP_TIME_SEC'], 'rowSet': [['22019', 1629060, 'Rui Hachimura', 202329, 'Al-Farouq Aminu', 1, '6:45', 31.9, 4, 47, 1, 0, 0, 2, 5, 0.4, 0, 0, 0.0, 0, 0, 0, 0, 0, 0, 0, 404.7], ['22019', 1626168, 'Trey Lyles', 202329, 'Al-Farouq Aminu', 1, '7:31', 30.5, 3, 22, 0, 1, 0, 1, 3, 0.333, 1, 2, 0.5, 0, 0, 0, 0, 0, 0, 0, 451.1], ['22019', 1628384, 'OG Anunoby', 202329, 'Al-Farouq Aminu', 3, '5:56', 29.3, 5, 37, 1, 1, 1, 2, 4, 0.5, 1, 2, 0.5, 0, 0, 0, 0, 0, 0, 0, 355.6], ['22019', 201567, 'Kevin Love', 202329, 'Al-Farouq Aminu', 2, '5:17', 25.0, 4, 14, 0, 1, 0, 2, 3, 0.667, 0, 1, 0.0, 0, 0, 0, 0, 0, 0, 0, 316.8]]}\n",
            "\n",
            "\n",
            "List of statistics for each player matchup\n",
            "['22019', 1629060, 'Rui Hachimura', 202329, 'Al-Farouq Aminu', 1, '6:45', 31.9, 4, 47, 1, 0, 0, 2, 5, 0.4, 0, 0, 0.0, 0, 0, 0, 0, 0, 0, 0, 404.7]\n",
            "\n",
            "\n",
            "defensive player name\n",
            "Al-Farouq Aminu\n",
            "\n",
            "\n",
            "offensive player name\n",
            "Rui Hachimura\n",
            "\n",
            "\n",
            "points scored/allowed\n",
            "4\n"
          ]
        }
      ],
      "source": [
        "print('What does each dictionary look like, in var_stats?')\n",
        "print(var_stats[0]['resultSets'][0])\n",
        "print('\\n')\n",
        "\n",
        "print('List of statistics for each player matchup')\n",
        "print(var_stats[0]['resultSets'][0]['rowSet'][0])\n",
        "print('\\n')\n",
        "\n",
        "print('defensive player name')\n",
        "print(var_stats[0]['resultSets'][0]['rowSet'][0][4])\n",
        "print('\\n')\n",
        "\n",
        "print('offensive player name')\n",
        "print(var_stats[0]['resultSets'][0]['rowSet'][0][2])\n",
        "print('\\n')\n",
        "\n",
        "print('points scored/allowed')\n",
        "print(var_stats[0]['resultSets'][0]['rowSet'][0][8])"
      ]
    },
    {
      "cell_type": "code",
      "execution_count": 8,
      "id": "a9e97584",
      "metadata": {
        "id": "a9e97584"
      },
      "outputs": [],
      "source": [
        "def players_guarded_minutes_dict_sorted(var_stats, DEF_PLAYER_NAME):\n",
        "    ###YOUR CODE HERE\n",
        "\n",
        "#     helper function\n",
        "    def create_tuples_list(stats):\n",
        "        player_list = []\n",
        "        for player_guarded in stats:\n",
        "            player_tuple = (player_guarded[2],player_guarded[8])\n",
        "#                     print(player_tuple)\n",
        "            player_list.append(player_tuple)\n",
        "\n",
        "#         this code uses a lambda function, which we have not yet covered\n",
        "#         don't worry about understanding it yet\n",
        "#         but you will want to have this code snippet on your \"speed dial\"\n",
        "#         of useful code examples for the exam\n",
        "\n",
        "        # https://www.geeksforgeeks.org/python-mutiple-column-sort-in-tuples/\n",
        "        # https://www.geeksforgeeks.org/python-program-to-sort-a-list-of-tuples-by-second-item/\n",
        "        player_list = sorted(player_list, key = lambda x: (-x[1], x[0]))\n",
        "        return player_list\n",
        "\n",
        "\n",
        "    ret_list = []\n",
        "\n",
        "\n",
        "    for player in DEF_PLAYER_NAME:\n",
        "\n",
        "        for item in range(0,len(var_stats)):\n",
        "\n",
        "            player_dict = {}\n",
        "\n",
        "#             get the list of players guarded stats\n",
        "            stats = (var_stats[item]['resultSets'][0]['rowSet'])\n",
        "\n",
        "            if (stats[0][4] == player):\n",
        "#                 call the helper function\n",
        "                tup_list = create_tuples_list(stats)\n",
        "\n",
        "                player_dict[player] = tup_list\n",
        "\n",
        "                ret_list.append(player_dict)\n",
        "\n",
        "    return ret_list\n",
        "\n",
        "# use for testing\n",
        "# print(players_guarded_minutes_dict_sorted(var_stats, DEF_PLAYER_NAME))"
      ]
    },
    {
      "cell_type": "code",
      "source": [
        "final_list=[]\n",
        "\n",
        "for name in DEF_PLAYER_NAME:\n",
        "  for j in range(len(nested)):\n",
        "    def_player_name = nested[j]['resultSets'][0]['rowSet'][0][4]\n",
        "\n",
        "    if name == def_player_name:\n",
        "      off_pts_list = []\n",
        "\n",
        "      for i in range(len(nested[j]['resultSets'][0]['rowSet'])):\n",
        "        # print(i,\" | \", nested[j]['resultSets'][0]['rowSet'])\n",
        "        pts = nested[j]['resultSets'][0]['rowSet'][i][8]\n",
        "        def_player_name = nested[j]['resultSets'][0]['rowSet'][i][4]\n",
        "        off_player_name = nested[j]['resultSets'][0]['rowSet'][i][2]\n",
        "        off_pts_list.append((off_player_name, pts))\n",
        "\n",
        "      sorted_off_pts_list = sorted(off_pts_list, key = lambda x: (-x[1], x[0]))\n",
        "      # sorted_off_pts_list = sorted(off_pts_list, key = lambda x: x[1], reverse=True)\n",
        "\n",
        "\n",
        "      def_dict = {name: sorted_off_pts_list}\n",
        "\n",
        "      final_list.append(def_dict)\n",
        "\n",
        "display(final_list)"
      ],
      "metadata": {
        "id": "Wkh6nrdJDYgL"
      },
      "id": "Wkh6nrdJDYgL",
      "execution_count": null,
      "outputs": []
    },
    {
      "cell_type": "code",
      "source": [
        "def players_guarded_minutes_dict_sorted1(var_stats, DEF_PLAYER_NAME):\n",
        "  nested = var_stats\n",
        "  final_list=[]\n",
        "  for name in DEF_PLAYER_NAME:\n",
        "    for j in range(len(nested)):\n",
        "      def_player_name = nested[j]['resultSets'][0]['rowSet'][0][4]\n",
        "\n",
        "      if name == def_player_name:\n",
        "        off_pts_list = []\n",
        "\n",
        "        for i in range(len(nested[j]['resultSets'][0]['rowSet'])):\n",
        "          # print(i,\" | \", nested[j]['resultSets'][0]['rowSet'])\n",
        "          pts = nested[j]['resultSets'][0]['rowSet'][i][8]\n",
        "          def_player_name = nested[j]['resultSets'][0]['rowSet'][i][4]\n",
        "          off_player_name = nested[j]['resultSets'][0]['rowSet'][i][2]\n",
        "          off_pts_list.append((off_player_name, pts))\n",
        "\n",
        "        sorted_off_pts_list = sorted(off_pts_list, key = lambda x: (-x[1], x[0]))\n",
        "        # sorted_off_pts_list = sorted(off_pts_list, key = lambda x: x[1], reverse=True)\n",
        "\n",
        "\n",
        "        def_dict = {name: sorted_off_pts_list}\n",
        "\n",
        "        final_list.append(def_dict)\n",
        "\n",
        "  return final_list"
      ],
      "metadata": {
        "id": "SEPLqQ9UDcMQ"
      },
      "id": "SEPLqQ9UDcMQ",
      "execution_count": 96,
      "outputs": []
    },
    {
      "cell_type": "code",
      "execution_count": 97,
      "id": "98d48e74",
      "metadata": {
        "id": "98d48e74",
        "outputId": "57668875-311c-4d19-de1b-d4c807cf9a0a",
        "colab": {
          "base_uri": "https://localhost:8080/",
          "height": 468
        }
      },
      "outputs": [
        {
          "output_type": "display_data",
          "data": {
            "text/plain": [
              "[{'Al-Farouq Aminu': [('OG Anunoby', 5),\n",
              "   ('Kevin Love', 4),\n",
              "   ('Rui Hachimura', 4),\n",
              "   ('Trey Lyles', 3)]},\n",
              " {'Bam Adebayo': [('Joel Embiid', 31),\n",
              "   ('Nikola Vucevic', 22),\n",
              "   ('Myles Turner', 13),\n",
              "   ('John Collins', 10)]},\n",
              " {'Giannis Antetokounmpo': [('Kevin Love', 23),\n",
              "   ('Lauri Markkanen', 11),\n",
              "   ('Ben Simmons', 5),\n",
              "   ('Myles Turner', 5)]},\n",
              " {'Nickeil Alexander-Walker': [('Jordan Clarkson', 16),\n",
              "   ('Seth Curry', 5),\n",
              "   ('Jerome Robinson', 0)]},\n",
              " {'Kyle Anderson': [('Joe Ingles', 21),\n",
              "   ('Harrison Barnes', 17),\n",
              "   ('Aaron Gordon', 6),\n",
              "   ('Nemanja Bjelica', 3)]},\n",
              " {'Jarrett Allen': [('Bam Adebayo', 27),\n",
              "   ('Andre Drummond', 21),\n",
              "   ('Nikola Vucevic', 21),\n",
              "   ('Daniel Theis', 13)]},\n",
              " {'Grayson Allen': [('Donovan Mitchell', 11),\n",
              "   ('Bryn Forbes', 4),\n",
              "   ('Kyle Korver', 3)]}]"
            ]
          },
          "metadata": {}
        }
      ],
      "source": [
        "# TEST CELL\n",
        "# test code\n",
        "OUTPUT_LIST = players_guarded_minutes_dict_sorted1(var_stats, DEF_PLAYER_NAME)\n",
        "display(OUTPUT_LIST)"
      ]
    },
    {
      "cell_type": "code",
      "execution_count": 98,
      "id": "af073da5",
      "metadata": {
        "id": "af073da5",
        "outputId": "fbb8620c-f729-4614-92c9-8c2b9a03af19",
        "colab": {
          "base_uri": "https://localhost:8080/"
        }
      },
      "outputs": [
        {
          "output_type": "stream",
          "name": "stdout",
          "text": [
            "passed\n"
          ]
        }
      ],
      "source": [
        "assert(OUTPUT_LIST == final_result), 'Your output does not match the solution'\n",
        "print('passed')"
      ]
    },
    {
      "cell_type": "code",
      "execution_count": 10,
      "id": "e1ba3d5e",
      "metadata": {
        "id": "e1ba3d5e"
      },
      "outputs": [],
      "source": []
    }
  ],
  "metadata": {
    "kernelspec": {
      "display_name": "Python 3 (ipykernel)",
      "language": "python",
      "name": "python3"
    },
    "language_info": {
      "codemirror_mode": {
        "name": "ipython",
        "version": 3
      },
      "file_extension": ".py",
      "mimetype": "text/x-python",
      "name": "python",
      "nbconvert_exporter": "python",
      "pygments_lexer": "ipython3",
      "version": "3.9.13"
    },
    "colab": {
      "provenance": [],
      "include_colab_link": true
    }
  },
  "nbformat": 4,
  "nbformat_minor": 5
}