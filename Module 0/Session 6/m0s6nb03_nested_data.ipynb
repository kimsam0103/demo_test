{
  "cells": [
    {
      "cell_type": "markdown",
      "metadata": {
        "id": "view-in-github",
        "colab_type": "text"
      },
      "source": [
        "<a href=\"https://colab.research.google.com/github/kimsam0103/demo_test/blob/master/Module%200/Session%206/m0s6nb03_nested_data.ipynb\" target=\"_parent\"><img src=\"https://colab.research.google.com/assets/colab-badge.svg\" alt=\"Open In Colab\"/></a>"
      ]
    },
    {
      "cell_type": "markdown",
      "id": "3e486c9a",
      "metadata": {
        "id": "3e486c9a"
      },
      "source": [
        "# Intro to Nested Data"
      ]
    },
    {
      "cell_type": "markdown",
      "id": "f676058e",
      "metadata": {
        "id": "f676058e"
      },
      "source": [
        "### Now that we have covered the different data structures that we will use in Module 0, we now introduce `Nested Data`.\n",
        "\n",
        "### If you want to be successful in this course, you `ABSOLUTELY MUST` understand how to work with nested data.\n",
        "\n",
        "### Every notebook and every exam will require you to manipulate nested data in some way."
      ]
    },
    {
      "cell_type": "markdown",
      "id": "ceb30c51",
      "metadata": {
        "id": "ceb30c51"
      },
      "source": [
        "#### Main data structures in Python -\n",
        "1. Lists\n",
        "2. Tuples\n",
        "3. Dictionaries\n",
        "4. Sets\n",
        "\n",
        "#### You can nest these data structures one inside the other. For example -\n",
        "1. List of lists\n",
        "2. List of tuples\n",
        "3. List of dictionaries\n",
        "4. Dictionary of lists\n",
        "5. Dictionary of dictionaries\n",
        "6. Dictionary of lists of dictionaries.....\n",
        "etc.\n",
        "\n",
        "#### You `MUST` know how to handle a complex nested data to get the information you want.\n",
        "\n",
        "#### The methodology (you will want to understand and use) is to go step by step and understand how the complex nested data is structured.\n",
        "\n",
        "\n",
        "Let's see some examples to get more idea about these nested data structures -"
      ]
    },
    {
      "cell_type": "code",
      "execution_count": 1,
      "id": "ca6afedd",
      "metadata": {
        "id": "ca6afedd"
      },
      "outputs": [],
      "source": [
        "# a fairly simple nested data structure\n",
        "# dictionary of dictionaries\n",
        "details_dict = {\n",
        "  \"firstName\": \"John\",\n",
        "  \"lastName\": \"Smith\",\n",
        "  \"isAlive\": True,\n",
        "  \"age\": 25,\n",
        "\n",
        "    \"address\": {\n",
        "    \"streetAddress\": \"21 2nd Street\",\n",
        "    \"city\": \"New York\",\n",
        "    \"state\": \"NY\",\n",
        "    \"postalCode\": \"10021-3100\"},\n",
        "\n",
        "  \"phoneNumbers\": {\n",
        "    \"home\":   {\n",
        "                \"type\": \"home\",\n",
        "                \"number\": \"212 555-1234\"\n",
        "              },\n",
        "    \"office\":{\n",
        "               \"type\": \"office\",\n",
        "               \"number\": \"646 555-4567\"\n",
        "             },\n",
        "    \"modile\":{\n",
        "               \"type\": \"mobile\",\n",
        "               \"number\": \"123 456-7890\"\n",
        "             }\n",
        "  },\n",
        "  \"children\": [\"Alice\", \"Ben\"],\n",
        "  \"spouse\": None\n",
        "\n",
        "}"
      ]
    },
    {
      "cell_type": "markdown",
      "id": "13966d35",
      "metadata": {
        "id": "13966d35"
      },
      "source": [
        "#### The site PythonTutor is fantastic for visualizing these data structures.\n",
        "\n",
        "Let's take our details_dict over there and see what it looks like.\n",
        "\n",
        "https://pythontutor.com/python-debugger.html#mode=edit\n"
      ]
    },
    {
      "cell_type": "markdown",
      "id": "378231c0",
      "metadata": {
        "id": "378231c0"
      },
      "source": [
        "#### Now let's look at one that is a bit more complex."
      ]
    },
    {
      "cell_type": "code",
      "execution_count": 2,
      "id": "c1a2d249",
      "metadata": {
        "id": "c1a2d249"
      },
      "outputs": [],
      "source": [
        "nested_data = {\n",
        "    \"ApartmentBuilding\":{\n",
        "        \"Address\":{\n",
        "            \"HouseNumber\": 5,\n",
        "            \"Street\": \"DataStreet\",\n",
        "            \"ZipCode\": 5100\n",
        "        },\n",
        "        \"Apartments\":[\n",
        "            {\n",
        "                \"Number\": 1,\n",
        "                \"Price\": 500,\n",
        "                \"Residents\": [\n",
        "                    {\n",
        "                        \"Name\": \"Bob\",\n",
        "                        \"Age\": 45\n",
        "                    },\n",
        "                    {\n",
        "                        \"Name\": \"Alice\",\n",
        "                        \"Age\": 33\n",
        "                    }\n",
        "                ]\n",
        "            },\n",
        "            {\n",
        "                \"Number\": 2,\n",
        "                \"Price\": 750,\n",
        "                \"Residents\": [\n",
        "                    {\n",
        "                        \"Name\": \"Jane\",\n",
        "                        \"Age\": 28\n",
        "                    },\n",
        "                    {\n",
        "                        \"Name\": \"William\",\n",
        "                        \"Age\": 29\n",
        "                    }\n",
        "                ]\n",
        "            },\n",
        "            {\n",
        "                \"Number\": 3,\n",
        "                \"Price\": 1000,\n",
        "                \"Residents\": []\n",
        "            }\n",
        "        ]\n",
        "    }\n",
        "}"
      ]
    },
    {
      "cell_type": "markdown",
      "id": "16acb3ad",
      "metadata": {
        "id": "16acb3ad"
      },
      "source": [
        "#### What does it look like in Python Tutor?\n",
        "\n",
        "*****************************************************\n",
        "\n",
        "#### Now let's look at how to address this with code. At each step below, we will go back to Python Tutor to cross-reference the data structure's visual representation with the syntax of how we are addressing each element."
      ]
    },
    {
      "cell_type": "code",
      "execution_count": 3,
      "id": "54e154c7",
      "metadata": {
        "id": "54e154c7",
        "colab": {
          "base_uri": "https://localhost:8080/"
        },
        "outputId": "8af8f8be-4bfd-4520-867c-af51f3ba1454"
      },
      "outputs": [
        {
          "output_type": "execute_result",
          "data": {
            "text/plain": [
              "dict"
            ]
          },
          "metadata": {},
          "execution_count": 3
        }
      ],
      "source": [
        "type(nested_data)"
      ]
    },
    {
      "cell_type": "code",
      "execution_count": 18,
      "id": "4f8acefd",
      "metadata": {
        "id": "4f8acefd",
        "colab": {
          "base_uri": "https://localhost:8080/",
          "height": 70
        },
        "outputId": "d396aa77-054f-41b8-be69-1bf662859238"
      },
      "outputs": [
        {
          "output_type": "display_data",
          "data": {
            "text/plain": [
              "\"Key : ApartmentBuilding ,\\n Value : {'Address': {'HouseNumber': 5, 'Street': 'DataStreet', 'ZipCode': 5100}, 'Apartments': [{'Number': 1, 'Price': 500, 'Residents': [{'Name': 'Bob', 'Age': 45}, {'Name': 'Alice', 'Age': 33}]}, {'Number': 2, 'Price': 750, 'Residents': [{'Name': 'Jane', 'Age': 28}, {'Name': 'William', 'Age': 29}]}, {'Number': 3, 'Price': 1000, 'Residents': []}]}\\n\""
            ],
            "application/vnd.google.colaboratory.intrinsic+json": {
              "type": "string"
            }
          },
          "metadata": {}
        }
      ],
      "source": [
        "# note that the dictionary contains a single key and single value\n",
        "# the single value is a dictionary with 2 keys\n",
        "for key , value in nested_data.items():\n",
        "    display(\"Key : {} ,\\n Value : {}\\n\".format(key,value))"
      ]
    },
    {
      "cell_type": "code",
      "execution_count": 19,
      "id": "d524bd7e",
      "metadata": {
        "id": "d524bd7e",
        "colab": {
          "base_uri": "https://localhost:8080/"
        },
        "outputId": "2620e0af-a35b-43bc-bb0e-b732a9646c5b"
      },
      "outputs": [
        {
          "output_type": "execute_result",
          "data": {
            "text/plain": [
              "1"
            ]
          },
          "metadata": {},
          "execution_count": 19
        }
      ],
      "source": [
        "len(nested_data)"
      ]
    },
    {
      "cell_type": "markdown",
      "id": "3b633f5b",
      "metadata": {
        "id": "3b633f5b"
      },
      "source": [
        "Addressing the highest level key in the overall dictionary."
      ]
    },
    {
      "cell_type": "code",
      "source": [
        "for key, value in nested_data.items():\n",
        "  display(\"Key: {} ,\\n Value: {}\".format(key, value))"
      ],
      "metadata": {
        "colab": {
          "base_uri": "https://localhost:8080/",
          "height": 70
        },
        "id": "ERTx7bPtS6bz",
        "outputId": "5b002138-b340-488d-f3f2-3fe444441852"
      },
      "id": "ERTx7bPtS6bz",
      "execution_count": 22,
      "outputs": [
        {
          "output_type": "display_data",
          "data": {
            "text/plain": [
              "\"Key: ApartmentBuilding ,\\n Value: {'Address': {'HouseNumber': 5, 'Street': 'DataStreet', 'ZipCode': 5100}, 'Apartments': [{'Number': 1, 'Price': 500, 'Residents': [{'Name': 'Bob', 'Age': 45}, {'Name': 'Alice', 'Age': 33}]}, {'Number': 2, 'Price': 750, 'Residents': [{'Name': 'Jane', 'Age': 28}, {'Name': 'William', 'Age': 29}]}, {'Number': 3, 'Price': 1000, 'Residents': []}]}\""
            ],
            "application/vnd.google.colaboratory.intrinsic+json": {
              "type": "string"
            }
          },
          "metadata": {}
        }
      ]
    },
    {
      "cell_type": "code",
      "source": [
        "for key, value in nested_data['ApartmentBuilding'].items():\n",
        "  display(\"Key: {} \\n Value: {}\".format(key, value))"
      ],
      "metadata": {
        "colab": {
          "base_uri": "https://localhost:8080/",
          "height": 71
        },
        "id": "V2FaorsETFns",
        "outputId": "4df8c4c4-1a13-42c9-e896-312b4591137e"
      },
      "id": "V2FaorsETFns",
      "execution_count": 24,
      "outputs": [
        {
          "output_type": "display_data",
          "data": {
            "text/plain": [
              "\"Key: Address \\n Value: {'HouseNumber': 5, 'Street': 'DataStreet', 'ZipCode': 5100}\""
            ],
            "application/vnd.google.colaboratory.intrinsic+json": {
              "type": "string"
            }
          },
          "metadata": {}
        },
        {
          "output_type": "display_data",
          "data": {
            "text/plain": [
              "\"Key: Apartments \\n Value: [{'Number': 1, 'Price': 500, 'Residents': [{'Name': 'Bob', 'Age': 45}, {'Name': 'Alice', 'Age': 33}]}, {'Number': 2, 'Price': 750, 'Residents': [{'Name': 'Jane', 'Age': 28}, {'Name': 'William', 'Age': 29}]}, {'Number': 3, 'Price': 1000, 'Residents': []}]\""
            ],
            "application/vnd.google.colaboratory.intrinsic+json": {
              "type": "string"
            }
          },
          "metadata": {}
        }
      ]
    },
    {
      "cell_type": "code",
      "source": [
        "for key, value in enumerate(nested_data['ApartmentBuilding']['Apartments']):\n",
        "  display(\"Key: {} \\n Value: {}\".format(key, value))"
      ],
      "metadata": {
        "colab": {
          "base_uri": "https://localhost:8080/",
          "height": 73
        },
        "id": "IokZ00fjTbz-",
        "outputId": "6fa5998a-c565-4f52-a85c-86cc5b7bb38b"
      },
      "id": "IokZ00fjTbz-",
      "execution_count": 25,
      "outputs": [
        {
          "output_type": "display_data",
          "data": {
            "text/plain": [
              "\"Key: 0 \\n Value: {'Number': 1, 'Price': 500, 'Residents': [{'Name': 'Bob', 'Age': 45}, {'Name': 'Alice', 'Age': 33}]}\""
            ],
            "application/vnd.google.colaboratory.intrinsic+json": {
              "type": "string"
            }
          },
          "metadata": {}
        },
        {
          "output_type": "display_data",
          "data": {
            "text/plain": [
              "\"Key: 1 \\n Value: {'Number': 2, 'Price': 750, 'Residents': [{'Name': 'Jane', 'Age': 28}, {'Name': 'William', 'Age': 29}]}\""
            ],
            "application/vnd.google.colaboratory.intrinsic+json": {
              "type": "string"
            }
          },
          "metadata": {}
        },
        {
          "output_type": "display_data",
          "data": {
            "text/plain": [
              "\"Key: 2 \\n Value: {'Number': 3, 'Price': 1000, 'Residents': []}\""
            ],
            "application/vnd.google.colaboratory.intrinsic+json": {
              "type": "string"
            }
          },
          "metadata": {}
        }
      ]
    },
    {
      "cell_type": "code",
      "source": [
        "for structure in nested_data['ApartmentBuilding']['Apartments'][0]['Residents']:\n",
        "  print(structure)"
      ],
      "metadata": {
        "colab": {
          "base_uri": "https://localhost:8080/"
        },
        "id": "ZIiAl__NT24D",
        "outputId": "2ee1c56c-6732-4424-fba4-45ab745ded35"
      },
      "id": "ZIiAl__NT24D",
      "execution_count": 27,
      "outputs": [
        {
          "output_type": "stream",
          "name": "stdout",
          "text": [
            "{'Name': 'Bob', 'Age': 45}\n",
            "{'Name': 'Alice', 'Age': 33}\n"
          ]
        }
      ]
    },
    {
      "cell_type": "code",
      "source": [
        "for key, value in nested_data['ApartmentBuilding']['Apartments'][0]['Residents'][0].items():\n",
        "  print(\"key : {} | value: {}\".format(key, value))"
      ],
      "metadata": {
        "id": "DLlq11kmUeBM",
        "outputId": "ee2e88b1-70bf-4b6f-d5ae-0a20ae648dc4",
        "colab": {
          "base_uri": "https://localhost:8080/"
        }
      },
      "id": "DLlq11kmUeBM",
      "execution_count": 30,
      "outputs": [
        {
          "output_type": "stream",
          "name": "stdout",
          "text": [
            "key : Name | value: Bob\n",
            "key : Age | value: 45\n"
          ]
        }
      ]
    },
    {
      "cell_type": "code",
      "execution_count": 6,
      "id": "3d9605fd",
      "metadata": {
        "id": "3d9605fd",
        "colab": {
          "base_uri": "https://localhost:8080/"
        },
        "outputId": "a2b0f3ea-3793-4693-a7c2-d9727fa8104e"
      },
      "outputs": [
        {
          "output_type": "execute_result",
          "data": {
            "text/plain": [
              "dict"
            ]
          },
          "metadata": {},
          "execution_count": 6
        }
      ],
      "source": [
        "# how to address the highest level key\n",
        "type(nested_data['ApartmentBuilding'])"
      ]
    },
    {
      "cell_type": "markdown",
      "id": "ce085606",
      "metadata": {
        "id": "ce085606"
      },
      "source": [
        "Now we see how to address the dictionary that is the value of the highest level key."
      ]
    },
    {
      "cell_type": "code",
      "execution_count": 7,
      "id": "6a659f63",
      "metadata": {
        "id": "6a659f63",
        "colab": {
          "base_uri": "https://localhost:8080/"
        },
        "outputId": "5f380612-2de0-4203-a01d-8dbc069cd48f"
      },
      "outputs": [
        {
          "output_type": "stream",
          "name": "stdout",
          "text": [
            "Key : Address | Value : {'HouseNumber': 5, 'Street': 'DataStreet', 'ZipCode': 5100}\n",
            "\n",
            "Key : Apartments | Value : [{'Number': 1, 'Price': 500, 'Residents': [{'Name': 'Bob', 'Age': 45}, {'Name': 'Alice', 'Age': 33}]}, {'Number': 2, 'Price': 750, 'Residents': [{'Name': 'Jane', 'Age': 28}, {'Name': 'William', 'Age': 29}]}, {'Number': 3, 'Price': 1000, 'Residents': []}]\n",
            "\n"
          ]
        }
      ],
      "source": [
        "for key , value in nested_data['ApartmentBuilding'].items():\n",
        "    print(\"Key : {} | Value : {}\\n\".format(key,value))"
      ]
    },
    {
      "cell_type": "markdown",
      "id": "c3d5d452",
      "metadata": {
        "id": "c3d5d452"
      },
      "source": [
        "Now we go one level down, to the list that is the value of the 'Apartments' key."
      ]
    },
    {
      "cell_type": "code",
      "execution_count": 8,
      "id": "ff47ce5b",
      "metadata": {
        "id": "ff47ce5b",
        "colab": {
          "base_uri": "https://localhost:8080/"
        },
        "outputId": "52642809-5016-4887-bb13-1ac6fa9fbb8a"
      },
      "outputs": [
        {
          "output_type": "execute_result",
          "data": {
            "text/plain": [
              "list"
            ]
          },
          "metadata": {},
          "execution_count": 8
        }
      ],
      "source": [
        "type(nested_data['ApartmentBuilding']['Apartments'])"
      ]
    },
    {
      "cell_type": "code",
      "execution_count": 9,
      "id": "2663eabd",
      "metadata": {
        "id": "2663eabd",
        "colab": {
          "base_uri": "https://localhost:8080/"
        },
        "outputId": "31be9189-a6ca-45e1-ea78-357b7ea6aa65"
      },
      "outputs": [
        {
          "output_type": "stream",
          "name": "stdout",
          "text": [
            "Structure 0 : {'Number': 1, 'Price': 500, 'Residents': [{'Name': 'Bob', 'Age': 45}, {'Name': 'Alice', 'Age': 33}]}\n",
            "Structure 1 : {'Number': 2, 'Price': 750, 'Residents': [{'Name': 'Jane', 'Age': 28}, {'Name': 'William', 'Age': 29}]}\n",
            "Structure 2 : {'Number': 3, 'Price': 1000, 'Residents': []}\n"
          ]
        }
      ],
      "source": [
        "# using enumerate\n",
        "# this is a list of dictionaries\n",
        "for i , structure in enumerate(nested_data['ApartmentBuilding']['Apartments']):\n",
        "    print(\"Structure {} : {}\".format(i , structure))"
      ]
    },
    {
      "cell_type": "markdown",
      "id": "24c45787",
      "metadata": {
        "id": "24c45787"
      },
      "source": [
        "The key 'Residents' is a also list of dictionaries. How do we address these?\n",
        "\n",
        "Let's print out the 'Residents' list items from the first and second dictionaries in the list."
      ]
    },
    {
      "cell_type": "code",
      "execution_count": 10,
      "id": "6bec226f",
      "metadata": {
        "id": "6bec226f",
        "colab": {
          "base_uri": "https://localhost:8080/"
        },
        "outputId": "62ea72d0-6d56-4350-c81d-410427028d3b"
      },
      "outputs": [
        {
          "output_type": "stream",
          "name": "stdout",
          "text": [
            "{'Name': 'Bob', 'Age': 45}\n",
            "{'Name': 'Alice', 'Age': 33}\n"
          ]
        }
      ],
      "source": [
        "for structure in (nested_data['ApartmentBuilding']['Apartments'][0]['Residents']):\n",
        "    print(structure)"
      ]
    },
    {
      "cell_type": "markdown",
      "id": "f2e31943",
      "metadata": {
        "id": "f2e31943"
      },
      "source": [
        "Now let's print each dict in the list individually."
      ]
    },
    {
      "cell_type": "code",
      "execution_count": 11,
      "id": "4e37fc1e",
      "metadata": {
        "id": "4e37fc1e",
        "colab": {
          "base_uri": "https://localhost:8080/"
        },
        "outputId": "08a1da04-1dd9-4a0e-f90d-9f8fadb0f0d2"
      },
      "outputs": [
        {
          "output_type": "stream",
          "name": "stdout",
          "text": [
            "First dict in the list:\n",
            "{'Name': 'Bob', 'Age': 45}\n",
            "Second dict in the list:\n",
            "{'Name': 'Alice', 'Age': 33}\n"
          ]
        }
      ],
      "source": [
        "print(\"First dict in the list:\")\n",
        "print(nested_data['ApartmentBuilding']['Apartments'][0]['Residents'][0])\n",
        "print(\"Second dict in the list:\")\n",
        "print(nested_data['ApartmentBuilding']['Apartments'][0]['Residents'][1])"
      ]
    },
    {
      "cell_type": "markdown",
      "id": "a7ac19af",
      "metadata": {
        "id": "a7ac19af"
      },
      "source": [
        "Note that there are 2 entries in each dictionary. How do we get the values of each of them?\n",
        "\n",
        "Using .items():"
      ]
    },
    {
      "cell_type": "code",
      "execution_count": 12,
      "id": "e29b416f",
      "metadata": {
        "id": "e29b416f",
        "colab": {
          "base_uri": "https://localhost:8080/"
        },
        "outputId": "7d36b4f5-b732-43d8-b67c-485374171ff1"
      },
      "outputs": [
        {
          "output_type": "stream",
          "name": "stdout",
          "text": [
            "For the first dict:\n",
            "Key : Name | Value : Bob\n",
            "Key : Age | Value : 45\n",
            "\n",
            "For the second dict:\n",
            "Key : Name | Value : Alice\n",
            "Key : Age | Value : 33\n"
          ]
        }
      ],
      "source": [
        "print(\"For the first dict:\")\n",
        "for key, value in nested_data['ApartmentBuilding']['Apartments'][0]['Residents'][0].items():\n",
        "    print(\"Key : {} | Value : {}\".format(key,value))\n",
        "\n",
        "print(\"\\nFor the second dict:\")\n",
        "for key, value in nested_data['ApartmentBuilding']['Apartments'][0]['Residents'][1].items():\n",
        "    print(\"Key : {} | Value : {}\".format(key,value))"
      ]
    },
    {
      "cell_type": "markdown",
      "id": "50d3a066",
      "metadata": {
        "id": "50d3a066"
      },
      "source": [
        "#### Here is a data structure and some simple questions that require us to retrieve information from it."
      ]
    },
    {
      "cell_type": "code",
      "execution_count": 13,
      "id": "63f08f3e",
      "metadata": {
        "id": "63f08f3e"
      },
      "outputs": [],
      "source": [
        "my_family = [\n",
        "  { \"family_name\": \"Tunnicliffe\",\n",
        "    \"num_people\": 4,\n",
        "    \"local\": True,\n",
        "    \"city\": \"Bethpage, NY\",\n",
        "    \"date_established\": 2014,\n",
        "    \"names\": [\"Diane\", \"Steve\", \"Dylan\", \"Landon\"],\n",
        "    \"number_of_children\": 2,\n",
        "    \"children\": [\n",
        "      {\n",
        "        \"name\": \"Dylan\",\n",
        "        \"age\": 5,\n",
        "        \"favorite_color\": \"black\",\n",
        "        \"nickname\": \"Dillybeans\",\n",
        "        \"loves\": \"Super Mario\",\n",
        "      },\n",
        "      {\n",
        "        \"name\": \"Landon\",\n",
        "        \"age\": 2,\n",
        "        \"favorite_color\": \"blue\",\n",
        "        \"nickname\": \"Landybean\",\n",
        "        \"loves\": \"trucks\",\n",
        "      }\n",
        "    ]\n",
        "  },\n",
        "  { \"family_name\": \"Agulnick\",\n",
        "    \"num_people\": 5,\n",
        "    \"local\": False,\n",
        "    \"city\": \"Newton, MA\",\n",
        "    \"date_established\": 1987,\n",
        "    \"names\": [\"Ellen\", \"Mark\", \"Diane\", \"Joshua\", \"Allison\"],\n",
        "    \"number_of_children\": 3,\n",
        "    \"children\": [\n",
        "      {\n",
        "        \"name\": \"Diane\",\n",
        "        \"age\": 31,\n",
        "        \"favorite_color\": \"pink\",\n",
        "        \"nickname\": \"Dini\",\n",
        "        \"loves\": \"unicorns\",\n",
        "      },\n",
        "      {\n",
        "        \"name\": \"Joshua\",\n",
        "        \"age\": 28,\n",
        "        \"favorite_color\": \"red\",\n",
        "        \"nickname\": \"Joshie\",\n",
        "        \"loves\": \"trains\",\n",
        "      },\n",
        "      {\n",
        "        \"name\": \"Allison\",\n",
        "        \"age\": 26,\n",
        "        \"favorite_color\": \"purple\",\n",
        "        \"nickname\": \"Alli\",\n",
        "        \"loves\": \"candy\",\n",
        "      }\n",
        "    ]\n",
        "  }\n",
        "]"
      ]
    },
    {
      "cell_type": "markdown",
      "id": "9116d22c",
      "metadata": {
        "id": "9116d22c"
      },
      "source": [
        "### Q1. Find the names of all children and put into a list."
      ]
    },
    {
      "cell_type": "code",
      "execution_count": 14,
      "id": "7988e424",
      "metadata": {
        "id": "7988e424",
        "colab": {
          "base_uri": "https://localhost:8080/"
        },
        "outputId": "2531f11f-77e7-4dbe-a38e-78fb700efab9"
      },
      "outputs": [
        {
          "output_type": "stream",
          "name": "stdout",
          "text": [
            "['Dylan', 'Landon', 'Diane', 'Joshua', 'Allison']\n"
          ]
        }
      ],
      "source": [
        "children = []\n",
        "for unit in my_family:\n",
        "    for child in unit['children']:\n",
        "        children.append(child['name'])\n",
        "print(children)"
      ]
    },
    {
      "cell_type": "markdown",
      "id": "bb3a443f",
      "metadata": {
        "id": "bb3a443f"
      },
      "source": [
        "### Q2. Find names and ages of children in the non-local family unit, put each name and age into a tuple, and put the tuples into a list."
      ]
    },
    {
      "cell_type": "code",
      "execution_count": 15,
      "id": "1696348b",
      "metadata": {
        "id": "1696348b",
        "colab": {
          "base_uri": "https://localhost:8080/"
        },
        "outputId": "3c7440ba-a7a0-43d8-a119-320bb026ed7e"
      },
      "outputs": [
        {
          "output_type": "stream",
          "name": "stdout",
          "text": [
            "[('Diane', 31), ('Joshua', 28), ('Allison', 26)]\n"
          ]
        }
      ],
      "source": [
        "child_ages = []\n",
        "for unit in my_family:\n",
        "    if unit['local'] == False:\n",
        "        for child in unit['children']:\n",
        "            name_and_age = child['name'], child['age']\n",
        "            child_ages.append(name_and_age)\n",
        "print (child_ages)"
      ]
    },
    {
      "cell_type": "markdown",
      "id": "0edd3e04",
      "metadata": {
        "id": "0edd3e04"
      },
      "source": [
        "### Q3. Which child loves Super Mario?"
      ]
    },
    {
      "cell_type": "code",
      "execution_count": 16,
      "id": "7abe2424",
      "metadata": {
        "id": "7abe2424",
        "colab": {
          "base_uri": "https://localhost:8080/"
        },
        "outputId": "ae6a14ab-9b84-4243-8661-21be33bc9dc2"
      },
      "outputs": [
        {
          "output_type": "stream",
          "name": "stdout",
          "text": [
            "Dylan really loves Super Mario.\n"
          ]
        }
      ],
      "source": [
        "loves_Mario = None\n",
        "for unit in my_family:\n",
        "    for child in unit['children']:\n",
        "        if child['loves'] == 'Super Mario':\n",
        "            loves_Mario = child['name']\n",
        "print (f\"{loves_Mario} really loves Super Mario.\")"
      ]
    },
    {
      "cell_type": "markdown",
      "id": "b2c6d161",
      "metadata": {
        "id": "b2c6d161"
      },
      "source": [
        "#### Useful link to understand nested data structures more deeply - https://web.stanford.edu/class/archive/cs/cs106ap/cs106ap.1198/lectures/15-NestedCollections/15-Nested_Data_Structures.pdf"
      ]
    },
    {
      "cell_type": "markdown",
      "id": "d7b8d775",
      "metadata": {
        "id": "d7b8d775"
      },
      "source": [
        "### Q4. Oldest and Youngest child\n",
        "\n",
        "#### This question uses sorting and lambda functions, which we will be covering later in the bootcamp, so we will not go into it in detail here.\n",
        "\n",
        "#### However, the code here represents what might be required to solve a 2-point (or simple 3-point) question on an exam, so we leave it here for students to refer back to."
      ]
    },
    {
      "cell_type": "code",
      "execution_count": 17,
      "id": "2d3336d4",
      "metadata": {
        "id": "2d3336d4",
        "colab": {
          "base_uri": "https://localhost:8080/"
        },
        "outputId": "0956d9e6-7f89-4075-b885-7f293ee73fcd"
      },
      "outputs": [
        {
          "output_type": "stream",
          "name": "stdout",
          "text": [
            "The oldest child is Diane. The youngest child is Landon.\n"
          ]
        }
      ],
      "source": [
        "oldest_child = None\n",
        "youngest_child = None\n",
        "children = []\n",
        "for unit in my_family:\n",
        "    for child in unit['children']:\n",
        "        children.append(child)\n",
        "sorted_children = (sorted(children, key = lambda child: child['age'], reverse = True))\n",
        "oldest_child = sorted_children[0]['name']\n",
        "youngest_child = sorted_children[-1]['name']\n",
        "print(f\"The oldest child is {oldest_child}. The youngest child is {youngest_child}.\")"
      ]
    },
    {
      "cell_type": "code",
      "execution_count": 17,
      "id": "3a79c97b",
      "metadata": {
        "id": "3a79c97b"
      },
      "outputs": [],
      "source": []
    }
  ],
  "metadata": {
    "kernelspec": {
      "display_name": "Python 3 (ipykernel)",
      "language": "python",
      "name": "python3"
    },
    "language_info": {
      "codemirror_mode": {
        "name": "ipython",
        "version": 3
      },
      "file_extension": ".py",
      "mimetype": "text/x-python",
      "name": "python",
      "nbconvert_exporter": "python",
      "pygments_lexer": "ipython3",
      "version": "3.9.13"
    },
    "colab": {
      "provenance": [],
      "include_colab_link": true
    }
  },
  "nbformat": 4,
  "nbformat_minor": 5
}