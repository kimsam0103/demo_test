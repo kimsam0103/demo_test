{
  "cells": [
    {
      "cell_type": "markdown",
      "metadata": {
        "id": "view-in-github",
        "colab_type": "text"
      },
      "source": [
        "<a href=\"https://colab.research.google.com/github/kimsam0103/demo_test/blob/master/Module%200/Session%209/m0s9nb1_zip_enumerate.ipynb\" target=\"_parent\"><img src=\"https://colab.research.google.com/assets/colab-badge.svg\" alt=\"Open In Colab\"/></a>"
      ]
    },
    {
      "cell_type": "markdown",
      "metadata": {
        "id": "_8EWMbuUOKja"
      },
      "source": [
        "# Easier Iteration: Zip and Enumerate"
      ]
    },
    {
      "cell_type": "markdown",
      "metadata": {
        "id": "k0tHxrBBOKji"
      },
      "source": [
        "## Introduction"
      ]
    },
    {
      "cell_type": "markdown",
      "metadata": {
        "id": "VDbr_ROPOKjj"
      },
      "source": [
        "Easy iteration is one of the pervasive underlying design choices which makes Python so expressive and powerful.\n",
        "\n",
        "- You'll often find that you can use loops and comprehensions with all kinds of data containers.\n",
        "\n",
        "In this notebook, we'll look at two helpful built-in functions which we can use to make iteration even easier.\n",
        "\n",
        "- You may find [Python for Data Analysis: Chapter 3](https://wesmckinney.com/book/python-builtin) useful as an additional resource, here."
      ]
    },
    {
      "cell_type": "markdown",
      "metadata": {
        "id": "1gvCZMKAOKjk"
      },
      "source": [
        "## Zip"
      ]
    },
    {
      "cell_type": "markdown",
      "metadata": {
        "id": "7J2lZM3xOKjl"
      },
      "source": [
        "### Overview"
      ]
    },
    {
      "cell_type": "markdown",
      "metadata": {
        "id": "zgzsHe3GOKjm"
      },
      "source": [
        "[Python's built-in Zip() function](https://docs.python.org/3/library/functions.html#zip) “pairs up\" the elements of multiple iterables to create a new iterable.\n",
        "\n",
        "- The elements returned from this iterable will be tuples, and the tuples will contain the pairwise elements of the original iterables.\n",
        "\n",
        "This is illustrated by the diagram below.\n",
        "\n",
        "- We start with two \"[iterable objects](https://docs.python.org/3/glossary.html#term-iterator)\" (on the left).\n",
        "- `zip()` will pair our elements together, so we can iterate through them together."
      ]
    },
    {
      "cell_type": "markdown",
      "metadata": {
        "id": "zHa8xB-fOKjo"
      },
      "source": [
        "![picture](https://raw.githubusercontent.com/gt-cse-6040/skills_oh_week_03/main/iterables_diagram.png)"
      ]
    },
    {
      "cell_type": "markdown",
      "metadata": {
        "id": "DU161nncOKjp"
      },
      "source": [
        "Here's an example in code."
      ]
    },
    {
      "cell_type": "code",
      "execution_count": 1,
      "metadata": {
        "id": "E5P5JvhiOKjq",
        "outputId": "7f10331c-0831-4bdc-edea-d2403e11ed6e",
        "colab": {
          "base_uri": "https://localhost:8080/"
        }
      },
      "outputs": [
        {
          "output_type": "stream",
          "name": "stdout",
          "text": [
            "<zip object at 0x79b4c162d500>\n",
            "[('Albert', 'Waldron'), ('Chris', 'Kinkade'), ('Jen', 'Sherwood')]\n",
            "[('Albert', 'Waldron'), ('Chris', 'Kinkade'), ('Jen', 'Sherwood')]\n"
          ]
        }
      ],
      "source": [
        "first_name = ['Albert', 'Chris', 'Jen']\n",
        "last_name = ['Waldron', 'Kinkade', 'Sherwood']\n",
        "zipped = zip(first_name, last_name)\n",
        "print(zipped)\n",
        "\n",
        "# create a list, using the new \"zipped\" iterable\n",
        "zip_list = list(zipped)\n",
        "print(zip_list)\n",
        "\n",
        "# create the zip list directly\n",
        "zip_list2 = list(zip(first_name, last_name))\n",
        "print(zip_list2)"
      ]
    },
    {
      "cell_type": "markdown",
      "metadata": {
        "id": "hRNygKJLOKju"
      },
      "source": [
        "Should we always convert our iterable to a new data structure? Maybe, maybe not.\n",
        "\n",
        "- Creating a new list from the iterable will use up memory which you might not need.\n",
        "- You may be able to perform the desired operation on your iterable *without* creating a new container. Examples include:\n",
        "  - Filtering\n",
        "  - Sorting\n",
        "- If you need to perform sequence-like operations on the zipped iterables, you will likely need to create a new data structure. Examples include:\n",
        "  - Slicing\n",
        "  - Indexing"
      ]
    },
    {
      "cell_type": "markdown",
      "metadata": {
        "id": "42wvtaQTOKjv"
      },
      "source": [
        "### Creating Other Data Structures"
      ]
    },
    {
      "cell_type": "markdown",
      "metadata": {
        "id": "mjTwuoVrOKjv"
      },
      "source": [
        "Let's try creating a dictionary from a zipped iterable.\n",
        "\n",
        "To create a dictionary using `zip()`, we have to iterate over the zip object and tell Python which item in each tuple should be the key and which should be the value."
      ]
    },
    {
      "cell_type": "code",
      "execution_count": 2,
      "metadata": {
        "id": "Sn-J6hTMOKjw",
        "outputId": "a1303cf9-2965-43a5-825e-b9e5947ff490",
        "colab": {
          "base_uri": "https://localhost:8080/"
        }
      },
      "outputs": [
        {
          "output_type": "stream",
          "name": "stdout",
          "text": [
            "{'Albert': 'Waldron', 'Chris': 'Kinkade', 'Jen': 'Sherwood'}\n",
            "Albert's last name is: Waldron\n",
            "{'Waldron': 'Albert', 'Kinkade': 'Chris', 'Sherwood': 'Jen'}\n",
            "Kinkade's first name is: Chris\n"
          ]
        }
      ],
      "source": [
        "first_to_last = {first: last for first, last in zip(first_name, last_name)}\n",
        "print(first_to_last)\n",
        "print(f\"Albert's last name is: {first_to_last['Albert']}\")\n",
        "\n",
        "last_to_first = {last: first for first, last in zip(first_name, last_name)}\n",
        "print(last_to_first)\n",
        "print(f\"Kinkade's first name is: {last_to_first['Kinkade']}\")"
      ]
    },
    {
      "cell_type": "code",
      "source": [
        "first_to_last2 = dict(zip(first_name, last_name))\n",
        "print(first_to_last2)"
      ],
      "metadata": {
        "colab": {
          "base_uri": "https://localhost:8080/"
        },
        "id": "b5SASdA1F4Tr",
        "outputId": "d8235437-dcc2-4718-a324-39cd4f5545c0"
      },
      "execution_count": 8,
      "outputs": [
        {
          "output_type": "stream",
          "name": "stdout",
          "text": [
            "{'Albert': 'Waldron', 'Chris': 'Kinkade', 'Jen': 'Sherwood'}\n"
          ]
        }
      ]
    },
    {
      "cell_type": "markdown",
      "metadata": {
        "id": "E3WJTd8lOKjw"
      },
      "source": [
        "### Zipping Up Several Iterables"
      ]
    },
    {
      "cell_type": "markdown",
      "metadata": {
        "id": "KU-qQDc1OKjx"
      },
      "source": [
        "`zip()` can take an arbitrary number of sequences, and the number of elements it produces is determined by the shortest sequence.\n",
        "\n",
        "See below that first_name and last_name have 3 elements, but seq3 has only 2 elements, so the resulting list also has only 2 elements."
      ]
    },
    {
      "cell_type": "code",
      "source": [
        "seq3 = [1,2,3]\n",
        "dict_list3 = dict(zip(first_name, zip(last_name, seq3)))\n",
        "\n",
        "display(dict_list3)"
      ],
      "metadata": {
        "colab": {
          "base_uri": "https://localhost:8080/",
          "height": 34
        },
        "id": "5FCMOmwwG3aY",
        "outputId": "06a178de-e2b5-4533-e467-83fac2bcc426"
      },
      "execution_count": 11,
      "outputs": [
        {
          "output_type": "display_data",
          "data": {
            "text/plain": [
              "{'Albert': ('Waldron', 1), 'Chris': ('Kinkade', 2), 'Jen': ('Sherwood', 3)}"
            ]
          },
          "metadata": {}
        }
      ]
    },
    {
      "cell_type": "code",
      "execution_count": 3,
      "metadata": {
        "id": "GmLBZB3xOKjx",
        "outputId": "7e6d625d-2b84-43d0-9ef2-aff39b698fe9",
        "colab": {
          "base_uri": "https://localhost:8080/"
        }
      },
      "outputs": [
        {
          "output_type": "execute_result",
          "data": {
            "text/plain": [
              "[('Albert', 'Waldron', 1), ('Chris', 'Kinkade', 2)]"
            ]
          },
          "metadata": {},
          "execution_count": 3
        }
      ],
      "source": [
        "# unequal length lists, note also that we are also zipping up 3 iterables\n",
        "seq3 = [1, 2]\n",
        "zip_list = list(zip(first_name, last_name, seq3))\n",
        "zip_list"
      ]
    },
    {
      "cell_type": "markdown",
      "metadata": {
        "id": "-YDvFh7iOKjy"
      },
      "source": [
        "## Enumerate"
      ]
    },
    {
      "cell_type": "markdown",
      "metadata": {
        "id": "E__XIcTVOKjy"
      },
      "source": [
        "### Overview"
      ]
    },
    {
      "cell_type": "markdown",
      "metadata": {
        "id": "h5bSqM87OKjy"
      },
      "source": [
        "In Python, we can use `for` loops to loop over all elements of an iterable.\n",
        "\n",
        "- This means you don’t need a counting variable to access items in the iterable.\n",
        "- However, you may occasionally want to track *how many iterations* you've already completed.\n",
        "\n",
        "Rather than creating and incrementing a variable yourself, you can use [Python’s enumerate()](https://docs.python.org/3/library/functions.html#enumerate) to get a counter and the value from the iterable at the same time."
      ]
    },
    {
      "cell_type": "code",
      "execution_count": 4,
      "metadata": {
        "id": "C7nxwwQeOKjz",
        "outputId": "7c4532d6-8af3-4676-bd91-052a4d108d4b",
        "colab": {
          "base_uri": "https://localhost:8080/"
        }
      },
      "outputs": [
        {
          "output_type": "stream",
          "name": "stdout",
          "text": [
            "0 Albert\n",
            "1 Chris\n",
            "2 Jen\n"
          ]
        }
      ],
      "source": [
        "# We can do things this way, but it's verbose and can lead\n",
        "# to bugs if we aren't careful\n",
        "index = 0\n",
        "for value in first_name:\n",
        "    print(index, value)\n",
        "    # Increment our counter\n",
        "    index += 1"
      ]
    },
    {
      "cell_type": "markdown",
      "metadata": {
        "id": "VaFDUObBOKjz"
      },
      "source": [
        "`enumerate()` returns a sequence of (i, value) tuples:"
      ]
    },
    {
      "cell_type": "code",
      "source": [
        "aa=[]\n",
        "for idx, value  in enumerate(first_name, start=0):\n",
        "  # print(value)\n",
        "  aa.append(value)\n",
        "\n",
        "print(aa)"
      ],
      "metadata": {
        "colab": {
          "base_uri": "https://localhost:8080/"
        },
        "id": "PlUVyb51IP6t",
        "outputId": "444b9d03-24ca-4cc7-ac6d-be0f4f8be1a5"
      },
      "execution_count": 22,
      "outputs": [
        {
          "output_type": "stream",
          "name": "stdout",
          "text": [
            "['Albert', 'Chris', 'Jen']\n"
          ]
        }
      ]
    },
    {
      "cell_type": "code",
      "source": [
        "# for idx, value  in enumerate(first_name, start=0):\n",
        "#   print(idx, value)\n",
        "\n",
        "\n",
        "dd = []\n",
        "for pair  in enumerate(first_name, start=0):\n",
        "  dd.append(pair)\n",
        "\n",
        "print(dd)"
      ],
      "metadata": {
        "colab": {
          "base_uri": "https://localhost:8080/"
        },
        "id": "AWW0VTL2HZ6s",
        "outputId": "253eb689-88e7-4797-aa5b-1ae4aa3054ea"
      },
      "execution_count": 19,
      "outputs": [
        {
          "output_type": "stream",
          "name": "stdout",
          "text": [
            "[(0, 'Albert'), (1, 'Chris'), (2, 'Jen')]\n"
          ]
        }
      ]
    },
    {
      "cell_type": "code",
      "execution_count": 5,
      "metadata": {
        "id": "AXk4_pfnOKj0",
        "outputId": "2d4fe2f8-4843-405c-dfdf-540eeb317f8d",
        "colab": {
          "base_uri": "https://localhost:8080/"
        }
      },
      "outputs": [
        {
          "output_type": "stream",
          "name": "stdout",
          "text": [
            "0 Albert\n",
            "1 Chris\n",
            "2 Jen\n"
          ]
        }
      ],
      "source": [
        "# Instead of 4 lines, we now only need 2.\n",
        "# This is functionally identical to the example\n",
        "# above.\n",
        "for index, value in enumerate(first_name):\n",
        "    print(index, value)"
      ]
    },
    {
      "cell_type": "markdown",
      "metadata": {
        "id": "1PNZ_qG-OKj0"
      },
      "source": [
        "### Creating Data Containers with Enumerate"
      ]
    },
    {
      "cell_type": "markdown",
      "metadata": {
        "id": "nGFaQtqPOKj0"
      },
      "source": [
        "Let's look at a few more examples."
      ]
    },
    {
      "cell_type": "code",
      "execution_count": 6,
      "metadata": {
        "id": "LGqMmVVXOKj1",
        "outputId": "378e9ce5-b800-45a7-d822-057dcbbfede4",
        "colab": {
          "base_uri": "https://localhost:8080/"
        }
      },
      "outputs": [
        {
          "output_type": "execute_result",
          "data": {
            "text/plain": [
              "[(0, 'Albert'), (1, 'Chris'), (2, 'Jen')]"
            ]
          },
          "metadata": {},
          "execution_count": 6
        }
      ],
      "source": [
        "# Let's create a list of tuples\n",
        "enum_list = []\n",
        "for pair in enumerate(first_name):\n",
        "    # Append the tuple to the list\n",
        "    enum_list.append(pair)\n",
        "\n",
        "enum_list"
      ]
    },
    {
      "cell_type": "code",
      "execution_count": 7,
      "metadata": {
        "id": "FgWmw5uZOKj1",
        "outputId": "7c0204d2-729c-4567-a025-e36742d45f8e",
        "colab": {
          "base_uri": "https://localhost:8080/"
        }
      },
      "outputs": [
        {
          "output_type": "stream",
          "name": "stdout",
          "text": [
            "Original Sequence: ['Albert', 'Chris', 'Jen']\n",
            "Jen is in sequence position: 2\n"
          ]
        }
      ],
      "source": [
        "# Let's create a dictionary which allows us to check\n",
        "# what a given element's index is in a sequence\n",
        "enum_dict = dict()\n",
        "for index, value in enumerate(first_name):\n",
        "    enum_dict[value] = index\n",
        "\n",
        "print(\"Original Sequence:\", first_name)\n",
        "# What position in the original list\n",
        "# does \"Jen\" occupy?\n",
        "print(f\"Jen is in sequence position: {enum_dict['Jen']}\")"
      ]
    },
    {
      "cell_type": "markdown",
      "metadata": {
        "id": "iHvXmdiROKj2"
      },
      "source": [
        "### References"
      ]
    },
    {
      "cell_type": "markdown",
      "metadata": {
        "id": "wQI_5A0UOKj2"
      },
      "source": [
        "- If you want more details on `enumerate()`, you may find this article helpful: https://realpython.com/python-enumerate/."
      ]
    }
  ],
  "metadata": {
    "kernelspec": {
      "display_name": "Python 3",
      "language": "python",
      "name": "python3"
    },
    "language_info": {
      "codemirror_mode": {
        "name": "ipython",
        "version": 3
      },
      "file_extension": ".py",
      "mimetype": "text/x-python",
      "name": "python",
      "nbconvert_exporter": "python",
      "pygments_lexer": "ipython3",
      "version": "3.10.12"
    },
    "colab": {
      "provenance": [],
      "include_colab_link": true
    }
  },
  "nbformat": 4,
  "nbformat_minor": 0
}