{
  "cells": [
    {
      "cell_type": "markdown",
      "metadata": {
        "id": "view-in-github",
        "colab_type": "text"
      },
      "source": [
        "<a href=\"https://colab.research.google.com/github/kimsam0103/demo_test/blob/master/Module%200/Session%209/m0s9nb3_sorting.ipynb\" target=\"_parent\"><img src=\"https://colab.research.google.com/assets/colab-badge.svg\" alt=\"Open In Colab\"/></a>"
      ]
    },
    {
      "cell_type": "markdown",
      "metadata": {
        "id": "hynQdyc-OnwA"
      },
      "source": [
        "# Sorting"
      ]
    },
    {
      "cell_type": "markdown",
      "metadata": {
        "id": "_HGIF5WhOnwH"
      },
      "source": [
        "## Introduction"
      ]
    },
    {
      "cell_type": "markdown",
      "metadata": {
        "id": "NLfq3nj8OnwI"
      },
      "source": [
        "It's common for programmer to want to sort groups of data. For example, we might want to sort a list of employees by their start date. Python provides a built in function for doing this sort of work: `sorted()` (see the [documentation](https://docs.python.org/3/library/functions.html#sorted) for more details).\n",
        "\n",
        "- Python has an entire tutorial dedicated to [Sorting](https://docs.python.org/3/howto/sorting.html).\n",
        "  - Many of the examples, and even some of the text in this notebook, are taken directly from this tutorial."
      ]
    },
    {
      "cell_type": "markdown",
      "metadata": {
        "id": "63C6bvDuOnwJ"
      },
      "source": [
        "## Simple Sorting"
      ]
    },
    {
      "cell_type": "markdown",
      "metadata": {
        "id": "0OnCalhTOnwK"
      },
      "source": [
        "A simple ascending sort is very easy: just call the `sorted()` function. It returns a new sorted list:"
      ]
    },
    {
      "cell_type": "code",
      "source": [
        "# d =[1,2,3,4 , 10, 5]\n",
        "# g = sorted(d, reverse=True)\n",
        "\n",
        "# print(g)\n",
        "\n",
        "\n",
        "s = [('aa', 'A', 15),\n",
        "     ('bb', 'B', 12),\n",
        "     ('cc', 'B', 10),]\n",
        "\n",
        "def func_sort(x):\n",
        "  return x[1]\n",
        "\n",
        "print(s[0][1])\n",
        "\n",
        "s_s1 = sorted(s, key=func_sort, reverse=True)\n",
        "\n",
        "s_s2 = sorted(s, key= lambda x: x[1])\n",
        "\n",
        "s_s3 = sorted(s, key = lambda x:(x[1], x[2]))\n",
        "\n",
        "s_s4 = sorted(s, key = lambda x:(x[1], -x[2]))\n",
        "\n",
        "print(\"s1: \", s_s)\n",
        "print(\"s2: \", s_s2)\n",
        "print(\"s3: \", s_s3)\n",
        "print(\"s4: \", s_s4)"
      ],
      "metadata": {
        "colab": {
          "base_uri": "https://localhost:8080/"
        },
        "id": "vgQ5JLHiR2zV",
        "outputId": "6e00e9ac-1b8f-4afa-8bbe-9633fc6749df"
      },
      "execution_count": 32,
      "outputs": [
        {
          "output_type": "stream",
          "name": "stdout",
          "text": [
            "A\n",
            "s1:  [('bb', 'B', 12), ('cc', 'B', 10), ('aa', 'A', 15)]\n",
            "s2:  [('aa', 'A', 15), ('bb', 'B', 12), ('cc', 'B', 10)]\n",
            "s3:  [('aa', 'A', 15), ('cc', 'B', 10), ('bb', 'B', 12)]\n",
            "s4:  [('aa', 'A', 15), ('bb', 'B', 12), ('cc', 'B', 10)]\n"
          ]
        }
      ]
    },
    {
      "cell_type": "code",
      "execution_count": 3,
      "metadata": {
        "id": "VdNQQ84NOnwK",
        "outputId": "4c154873-d163-48c9-c9aa-33e567ca606b",
        "colab": {
          "base_uri": "https://localhost:8080/"
        }
      },
      "outputs": [
        {
          "output_type": "execute_result",
          "data": {
            "text/plain": [
              "[1, 2, 3, 4, 5]"
            ]
          },
          "metadata": {},
          "execution_count": 3
        }
      ],
      "source": [
        "my_tuple = (5, 2, 3, 1, 4)\n",
        "sorted(my_tuple)"
      ]
    },
    {
      "cell_type": "markdown",
      "metadata": {
        "id": "cl8lLH1DOnwL"
      },
      "source": [
        "- You can pass any iterable to `sorted()`.\n",
        "- Notice that `sorted()` returns a `list`.\n",
        "  - If you need a different type, you'll need to cast it to the new type.\n",
        "\n",
        "If we want, we can use the `reverse` keyword to return the items in reverse order:"
      ]
    },
    {
      "cell_type": "code",
      "execution_count": 4,
      "metadata": {
        "id": "JsRqwgjcOnwM",
        "outputId": "29d1ea9c-f984-4027-9e2d-392fa58ea2e8",
        "colab": {
          "base_uri": "https://localhost:8080/"
        }
      },
      "outputs": [
        {
          "output_type": "execute_result",
          "data": {
            "text/plain": [
              "[5, 4, 3, 2, 1]"
            ]
          },
          "metadata": {},
          "execution_count": 4
        }
      ],
      "source": [
        "my_tuple = (5, 2, 3, 1, 4)\n",
        "sorted(my_tuple, reverse=True)"
      ]
    },
    {
      "cell_type": "markdown",
      "metadata": {
        "id": "TI7fSjilOnwM"
      },
      "source": [
        "## Key Functions"
      ]
    },
    {
      "cell_type": "markdown",
      "metadata": {
        "id": "CT-8NarxOnwM"
      },
      "source": [
        "By default, Python will simply use the `<` operator to compare values. So, when determining order of integers, `sorted()` will evaluate the expression `a < b` for various values and use the results to order the items.\n",
        "\n",
        "However, we can call a function on each item *before* this comparison is made. This gives us a lot of power to arbitrarily order our iterables. For example, we can sort a list of tuples by checking the element at the 2nd index."
      ]
    },
    {
      "cell_type": "code",
      "execution_count": 5,
      "metadata": {
        "id": "kWRFJLFeOnwN",
        "outputId": "8039c91d-04cd-4bb5-a5ab-c04daa18e622",
        "colab": {
          "base_uri": "https://localhost:8080/"
        }
      },
      "outputs": [
        {
          "output_type": "execute_result",
          "data": {
            "text/plain": [
              "[('dave', 'B', 10), ('jane', 'B', 12), ('john', 'A', 15)]"
            ]
          },
          "metadata": {},
          "execution_count": 5
        }
      ],
      "source": [
        "# Define the list of tuples\n",
        "student_tuples = [\n",
        "    ('john', 'A', 15),\n",
        "    ('jane', 'B', 12),\n",
        "    ('dave', 'B', 10),\n",
        "]\n",
        "\n",
        "# Method 1: Create the function traditionally --------------------------\n",
        "def sorting_func(tup):\n",
        "    return tup[2]\n",
        "# Return the sorted tuples\n",
        "sorted(student_tuples, key=sorting_func)\n",
        "\n",
        "# Method 2: Use a lambda function --------------------------------------\n",
        "sorted(student_tuples, key=lambda tup: tup[2])"
      ]
    },
    {
      "cell_type": "markdown",
      "metadata": {
        "id": "f7Cn6K9LOnwN"
      },
      "source": [
        "## Sorting Other Iterables"
      ]
    },
    {
      "cell_type": "markdown",
      "metadata": {
        "id": "dH5BOjEqOnwN"
      },
      "source": [
        "Dictionaries don't have an order, but they *are* iterable! This means we can still sort their contents and put them into a list. Here's an example."
      ]
    },
    {
      "cell_type": "code",
      "execution_count": 6,
      "metadata": {
        "id": "qJ62_09HOnwN",
        "outputId": "6124599e-d3c2-46da-bbe6-5d42c4d4b756",
        "colab": {
          "base_uri": "https://localhost:8080/"
        }
      },
      "outputs": [
        {
          "output_type": "stream",
          "name": "stdout",
          "text": [
            "Students, ranked by highest grades to lowest: ['Aditi', 'John', 'Li']\n"
          ]
        }
      ],
      "source": [
        "students = {\n",
        "    'Aditi': 98,\n",
        "    'Li': 86,\n",
        "    'John': 93\n",
        "}\n",
        "\n",
        "# Let's sort them by their grades in descending order\n",
        "sorted_students = sorted(\n",
        "    students,\n",
        "    # For each name, use the value from `students`\n",
        "    # to order the results\n",
        "    key=lambda name: students[name],\n",
        "    reverse=True\n",
        ")\n",
        "print(\"Students, ranked by highest grades to lowest:\", sorted_students)"
      ]
    },
    {
      "cell_type": "markdown",
      "metadata": {
        "id": "9JhNxCZ-OnwN"
      },
      "source": [
        "## Final Thoughts: Sorting in Place"
      ]
    },
    {
      "cell_type": "markdown",
      "metadata": {
        "id": "hayAnW42OnwN"
      },
      "source": [
        "Using `sorted()` **does not change the original iterable.** It simply returns a new list.\n",
        "\n",
        "However, Python lists have a method, `list.sort()`, which **does** change the original list. This means you will be modifing your original data!\n",
        "\n",
        "- Do not do this unless you know *for a fact* that you will not need the original list.\n",
        "- If you don't need the original list, however, this is slightly more efficient and you won't use as much memory (because you'll only have one list, as opposed to two)."
      ]
    },
    {
      "cell_type": "code",
      "execution_count": 7,
      "metadata": {
        "id": "UddyabT-OnwN",
        "outputId": "2acb1a55-ea70-4f03-ae97-65450ddef84a",
        "colab": {
          "base_uri": "https://localhost:8080/"
        }
      },
      "outputs": [
        {
          "output_type": "stream",
          "name": "stdout",
          "text": [
            "First list ID: 137426682137344\n",
            "Second list ID: 137426682137408\n",
            "OK, modifying the first list won't impact the second list.\n",
            "What does our sorted first_list look like? [1, 2, 3, 7, 9, 10]\n",
            "What does our original first_list look like? [2, 7, 3, 9, 10, 1]\n",
            "What does the return value of the .sort() method look like? None\n",
            "What does our original second_list look like? [1, 2, 3, 7, 9, 10]\n"
          ]
        }
      ],
      "source": [
        "first_list = [2, 7, 3, 9, 10, 1]\n",
        "second_list = first_list.copy()\n",
        "\n",
        "# Are these the *same* list, or are they different?\n",
        "print(\"First list ID:\", id(first_list))\n",
        "print(\"Second list ID:\", id(second_list))\n",
        "if id(first_list) == id(second_list):\n",
        "    print(\"Wait, these are the same list!\")\n",
        "else:\n",
        "    print(\"OK, modifying the first list won't impact the second list.\")\n",
        "\n",
        "first_list_sorted = sorted(first_list)\n",
        "print(\"What does our sorted first_list look like?\", first_list_sorted)\n",
        "print(\"What does our original first_list look like?\", first_list)\n",
        "\n",
        "second_list_output = second_list.sort()\n",
        "print(\"What does the return value of the .sort() method look like?\", second_list_output)\n",
        "print(\"What does our original second_list look like?\", second_list)"
      ]
    },
    {
      "cell_type": "markdown",
      "metadata": {
        "id": "CW8Hz23XOnwO"
      },
      "source": [
        "We can see from the output above that the `.sort()` method will change the original list. Keep this in mind if you need to sort something."
      ]
    }
  ],
  "metadata": {
    "kernelspec": {
      "display_name": "Python 3",
      "language": "python",
      "name": "python3"
    },
    "language_info": {
      "codemirror_mode": {
        "name": "ipython",
        "version": 3
      },
      "file_extension": ".py",
      "mimetype": "text/x-python",
      "name": "python",
      "nbconvert_exporter": "python",
      "pygments_lexer": "ipython3",
      "version": "3.10.12"
    },
    "colab": {
      "provenance": [],
      "include_colab_link": true
    }
  },
  "nbformat": 4,
  "nbformat_minor": 0
}